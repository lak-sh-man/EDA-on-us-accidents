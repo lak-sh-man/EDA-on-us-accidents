{
  "cells": [
    {
      "cell_type": "markdown",
      "metadata": {
        "id": "view-in-github",
        "colab_type": "text"
      },
      "source": [
        "<a href=\"https://colab.research.google.com/github/lak-sh-man/Exploratory-Data-Analysis-project/blob/main/us_accidents_analysis.ipynb\" target=\"_parent\"><img src=\"https://colab.research.google.com/assets/colab-badge.svg\" alt=\"Open In Colab\"/></a>"
      ]
    },
    {
      "cell_type": "markdown",
      "source": [
        "# US Accidents Exploratory Data Analysis\n",
        "\n",
        "TODO - talk about EDA\n",
        "\n",
        "TODO - talk about the data set \n",
        "- source is Kaggle\n",
        "- it contains information about accidents\n",
        "- it can be useful to prevent accidents\n",
        "- this does not have any data about Ney York"
      ],
      "metadata": {
        "id": "jrKn7U1lOxd6"
      }
    },
    {
      "cell_type": "markdown",
      "source": [
        "## 1. Download the Data"
      ],
      "metadata": {
        "id": "opXlbMENO68E"
      }
    },
    {
      "cell_type": "code",
      "source": [
        "pip install opendatasets --upgrade --quiet"
      ],
      "metadata": {
        "id": "nMmdGhJvO5mH"
      },
      "execution_count": null,
      "outputs": []
    },
    {
      "cell_type": "code",
      "source": [
        "import opendatasets as od\n",
        "download_url = 'https://www.kaggle.com/datasets/sobhanmoosavi/us-accidents'\n",
        "od.download(download_url)"
      ],
      "metadata": {
        "colab": {
          "base_uri": "https://localhost:8080/"
        },
        "id": "qKnF6qo9PXLA",
        "outputId": "e4fa2b69-8d9f-485d-865f-484fc9e99601"
      },
      "execution_count": null,
      "outputs": [
        {
          "output_type": "stream",
          "name": "stdout",
          "text": [
            "Please provide your Kaggle credentials to download this dataset. Learn more: http://bit.ly/kaggle-creds\n",
            "Your Kaggle username: lakzhman\n",
            "Your Kaggle Key: ··········\n",
            "Downloading us-accidents.zip to ./us-accidents\n"
          ]
        },
        {
          "output_type": "stream",
          "name": "stderr",
          "text": [
            "100%|██████████| 269M/269M [00:01<00:00, 220MB/s]\n"
          ]
        },
        {
          "output_type": "stream",
          "name": "stdout",
          "text": [
            "\n",
            "Skipping, found downloaded files in \"./us-accidents\" (use force=True to force download)\n"
          ]
        }
      ]
    },
    {
      "cell_type": "code",
      "source": [
        "data_filename = '/content/us-accidents/US_Accidents_Dec21_updated.csv'"
      ],
      "metadata": {
        "id": "eWqliHSBPgOd"
      },
      "execution_count": null,
      "outputs": []
    },
    {
      "cell_type": "markdown",
      "source": [
        "## 2. Data preparation and Cleaning\n",
        "\n",
        "- Load the file using Pandas\n",
        "- Look at some information about the data and the columns\n",
        "- Fix any missing or incorrect values"
      ],
      "metadata": {
        "id": "S4Lm56zFPibx"
      }
    },
    {
      "cell_type": "code",
      "source": [
        "import pandas as pd"
      ],
      "metadata": {
        "id": "EjkHBTWgPjRZ"
      },
      "execution_count": null,
      "outputs": []
    },
    {
      "cell_type": "code",
      "source": [
        "df = pd.read_csv(data_filename)"
      ],
      "metadata": {
        "id": "zHjejmQsPngK"
      },
      "execution_count": null,
      "outputs": []
    },
    {
      "cell_type": "code",
      "source": [
        "df"
      ],
      "metadata": {
        "id": "YVLcV2wFQSZM",
        "colab": {
          "base_uri": "https://localhost:8080/",
          "height": 939
        },
        "outputId": "71405814-3982-44ae-e40c-2af6f9f38b4a"
      },
      "execution_count": null,
      "outputs": [
        {
          "output_type": "execute_result",
          "data": {
            "text/plain": [
              "                ID  Severity           Start_Time             End_Time  \\\n",
              "0              A-1         3  2016-02-08 00:37:08  2016-02-08 06:37:08   \n",
              "1              A-2         2  2016-02-08 05:56:20  2016-02-08 11:56:20   \n",
              "2              A-3         2  2016-02-08 06:15:39  2016-02-08 12:15:39   \n",
              "3              A-4         2  2016-02-08 06:51:45  2016-02-08 12:51:45   \n",
              "4              A-5         3  2016-02-08 07:53:43  2016-02-08 13:53:43   \n",
              "...            ...       ...                  ...                  ...   \n",
              "2845337  A-2845338         2  2019-08-23 18:03:25  2019-08-23 18:32:01   \n",
              "2845338  A-2845339         2  2019-08-23 19:11:30  2019-08-23 19:38:23   \n",
              "2845339  A-2845340         2  2019-08-23 19:00:21  2019-08-23 19:28:49   \n",
              "2845340  A-2845341         2  2019-08-23 19:00:21  2019-08-23 19:29:42   \n",
              "2845341  A-2845342         2  2019-08-23 18:52:06  2019-08-23 19:21:31   \n",
              "\n",
              "         Start_Lat   Start_Lng    End_Lat     End_Lng  Distance(mi)  \\\n",
              "0        40.108910  -83.092860  40.112060  -83.031870         3.230   \n",
              "1        39.865420  -84.062800  39.865010  -84.048730         0.747   \n",
              "2        39.102660  -84.524680  39.102090  -84.523960         0.055   \n",
              "3        41.062130  -81.537840  41.062170  -81.535470         0.123   \n",
              "4        39.172393  -84.492792  39.170476  -84.501798         0.500   \n",
              "...            ...         ...        ...         ...           ...   \n",
              "2845337  34.002480 -117.379360  33.998880 -117.370940         0.543   \n",
              "2845338  32.766960 -117.148060  32.765550 -117.153630         0.338   \n",
              "2845339  33.775450 -117.847790  33.777400 -117.857270         0.561   \n",
              "2845340  33.992460 -118.403020  33.983110 -118.395650         0.772   \n",
              "2845341  34.133930 -117.230920  34.137360 -117.239340         0.537   \n",
              "\n",
              "                                               Description  ...  Roundabout  \\\n",
              "0        Between Sawmill Rd/Exit 20 and OH-315/Olentang...  ...       False   \n",
              "1                       At OH-4/OH-235/Exit 41 - Accident.  ...       False   \n",
              "2                         At I-71/US-50/Exit 1 - Accident.  ...       False   \n",
              "3                          At Dart Ave/Exit 21 - Accident.  ...       False   \n",
              "4                       At Mitchell Ave/Exit 6 - Accident.  ...       False   \n",
              "...                                                    ...  ...         ...   \n",
              "2845337                           At Market St - Accident.  ...       False   \n",
              "2845338    At Camino Del Rio/Mission Center Rd - Accident.  ...       False   \n",
              "2845339  At Glassell St/Grand Ave - Accident. in the ri...  ...       False   \n",
              "2845340     At CA-90/Marina Fwy/Jefferson Blvd - Accident.  ...       False   \n",
              "2845341              At Highland Ave/Arden Ave - Accident.  ...       False   \n",
              "\n",
              "        Station   Stop Traffic_Calming Traffic_Signal Turning_Loop  \\\n",
              "0         False  False           False          False        False   \n",
              "1         False  False           False          False        False   \n",
              "2         False  False           False          False        False   \n",
              "3         False  False           False          False        False   \n",
              "4         False  False           False          False        False   \n",
              "...         ...    ...             ...            ...          ...   \n",
              "2845337   False  False           False          False        False   \n",
              "2845338   False  False           False          False        False   \n",
              "2845339   False  False           False          False        False   \n",
              "2845340   False  False           False          False        False   \n",
              "2845341   False  False           False          False        False   \n",
              "\n",
              "        Sunrise_Sunset Civil_Twilight Nautical_Twilight Astronomical_Twilight  \n",
              "0                Night          Night             Night                 Night  \n",
              "1                Night          Night             Night                 Night  \n",
              "2                Night          Night             Night                   Day  \n",
              "3                Night          Night               Day                   Day  \n",
              "4                  Day            Day               Day                   Day  \n",
              "...                ...            ...               ...                   ...  \n",
              "2845337            Day            Day               Day                   Day  \n",
              "2845338            Day            Day               Day                   Day  \n",
              "2845339            Day            Day               Day                   Day  \n",
              "2845340            Day            Day               Day                   Day  \n",
              "2845341            Day            Day               Day                   Day  \n",
              "\n",
              "[2845342 rows x 47 columns]"
            ],
            "text/html": [
              "\n",
              "  <div id=\"df-13272dee-24d3-417b-af0a-a0638e1a4eb0\">\n",
              "    <div class=\"colab-df-container\">\n",
              "      <div>\n",
              "<style scoped>\n",
              "    .dataframe tbody tr th:only-of-type {\n",
              "        vertical-align: middle;\n",
              "    }\n",
              "\n",
              "    .dataframe tbody tr th {\n",
              "        vertical-align: top;\n",
              "    }\n",
              "\n",
              "    .dataframe thead th {\n",
              "        text-align: right;\n",
              "    }\n",
              "</style>\n",
              "<table border=\"1\" class=\"dataframe\">\n",
              "  <thead>\n",
              "    <tr style=\"text-align: right;\">\n",
              "      <th></th>\n",
              "      <th>ID</th>\n",
              "      <th>Severity</th>\n",
              "      <th>Start_Time</th>\n",
              "      <th>End_Time</th>\n",
              "      <th>Start_Lat</th>\n",
              "      <th>Start_Lng</th>\n",
              "      <th>End_Lat</th>\n",
              "      <th>End_Lng</th>\n",
              "      <th>Distance(mi)</th>\n",
              "      <th>Description</th>\n",
              "      <th>...</th>\n",
              "      <th>Roundabout</th>\n",
              "      <th>Station</th>\n",
              "      <th>Stop</th>\n",
              "      <th>Traffic_Calming</th>\n",
              "      <th>Traffic_Signal</th>\n",
              "      <th>Turning_Loop</th>\n",
              "      <th>Sunrise_Sunset</th>\n",
              "      <th>Civil_Twilight</th>\n",
              "      <th>Nautical_Twilight</th>\n",
              "      <th>Astronomical_Twilight</th>\n",
              "    </tr>\n",
              "  </thead>\n",
              "  <tbody>\n",
              "    <tr>\n",
              "      <th>0</th>\n",
              "      <td>A-1</td>\n",
              "      <td>3</td>\n",
              "      <td>2016-02-08 00:37:08</td>\n",
              "      <td>2016-02-08 06:37:08</td>\n",
              "      <td>40.108910</td>\n",
              "      <td>-83.092860</td>\n",
              "      <td>40.112060</td>\n",
              "      <td>-83.031870</td>\n",
              "      <td>3.230</td>\n",
              "      <td>Between Sawmill Rd/Exit 20 and OH-315/Olentang...</td>\n",
              "      <td>...</td>\n",
              "      <td>False</td>\n",
              "      <td>False</td>\n",
              "      <td>False</td>\n",
              "      <td>False</td>\n",
              "      <td>False</td>\n",
              "      <td>False</td>\n",
              "      <td>Night</td>\n",
              "      <td>Night</td>\n",
              "      <td>Night</td>\n",
              "      <td>Night</td>\n",
              "    </tr>\n",
              "    <tr>\n",
              "      <th>1</th>\n",
              "      <td>A-2</td>\n",
              "      <td>2</td>\n",
              "      <td>2016-02-08 05:56:20</td>\n",
              "      <td>2016-02-08 11:56:20</td>\n",
              "      <td>39.865420</td>\n",
              "      <td>-84.062800</td>\n",
              "      <td>39.865010</td>\n",
              "      <td>-84.048730</td>\n",
              "      <td>0.747</td>\n",
              "      <td>At OH-4/OH-235/Exit 41 - Accident.</td>\n",
              "      <td>...</td>\n",
              "      <td>False</td>\n",
              "      <td>False</td>\n",
              "      <td>False</td>\n",
              "      <td>False</td>\n",
              "      <td>False</td>\n",
              "      <td>False</td>\n",
              "      <td>Night</td>\n",
              "      <td>Night</td>\n",
              "      <td>Night</td>\n",
              "      <td>Night</td>\n",
              "    </tr>\n",
              "    <tr>\n",
              "      <th>2</th>\n",
              "      <td>A-3</td>\n",
              "      <td>2</td>\n",
              "      <td>2016-02-08 06:15:39</td>\n",
              "      <td>2016-02-08 12:15:39</td>\n",
              "      <td>39.102660</td>\n",
              "      <td>-84.524680</td>\n",
              "      <td>39.102090</td>\n",
              "      <td>-84.523960</td>\n",
              "      <td>0.055</td>\n",
              "      <td>At I-71/US-50/Exit 1 - Accident.</td>\n",
              "      <td>...</td>\n",
              "      <td>False</td>\n",
              "      <td>False</td>\n",
              "      <td>False</td>\n",
              "      <td>False</td>\n",
              "      <td>False</td>\n",
              "      <td>False</td>\n",
              "      <td>Night</td>\n",
              "      <td>Night</td>\n",
              "      <td>Night</td>\n",
              "      <td>Day</td>\n",
              "    </tr>\n",
              "    <tr>\n",
              "      <th>3</th>\n",
              "      <td>A-4</td>\n",
              "      <td>2</td>\n",
              "      <td>2016-02-08 06:51:45</td>\n",
              "      <td>2016-02-08 12:51:45</td>\n",
              "      <td>41.062130</td>\n",
              "      <td>-81.537840</td>\n",
              "      <td>41.062170</td>\n",
              "      <td>-81.535470</td>\n",
              "      <td>0.123</td>\n",
              "      <td>At Dart Ave/Exit 21 - Accident.</td>\n",
              "      <td>...</td>\n",
              "      <td>False</td>\n",
              "      <td>False</td>\n",
              "      <td>False</td>\n",
              "      <td>False</td>\n",
              "      <td>False</td>\n",
              "      <td>False</td>\n",
              "      <td>Night</td>\n",
              "      <td>Night</td>\n",
              "      <td>Day</td>\n",
              "      <td>Day</td>\n",
              "    </tr>\n",
              "    <tr>\n",
              "      <th>4</th>\n",
              "      <td>A-5</td>\n",
              "      <td>3</td>\n",
              "      <td>2016-02-08 07:53:43</td>\n",
              "      <td>2016-02-08 13:53:43</td>\n",
              "      <td>39.172393</td>\n",
              "      <td>-84.492792</td>\n",
              "      <td>39.170476</td>\n",
              "      <td>-84.501798</td>\n",
              "      <td>0.500</td>\n",
              "      <td>At Mitchell Ave/Exit 6 - Accident.</td>\n",
              "      <td>...</td>\n",
              "      <td>False</td>\n",
              "      <td>False</td>\n",
              "      <td>False</td>\n",
              "      <td>False</td>\n",
              "      <td>False</td>\n",
              "      <td>False</td>\n",
              "      <td>Day</td>\n",
              "      <td>Day</td>\n",
              "      <td>Day</td>\n",
              "      <td>Day</td>\n",
              "    </tr>\n",
              "    <tr>\n",
              "      <th>...</th>\n",
              "      <td>...</td>\n",
              "      <td>...</td>\n",
              "      <td>...</td>\n",
              "      <td>...</td>\n",
              "      <td>...</td>\n",
              "      <td>...</td>\n",
              "      <td>...</td>\n",
              "      <td>...</td>\n",
              "      <td>...</td>\n",
              "      <td>...</td>\n",
              "      <td>...</td>\n",
              "      <td>...</td>\n",
              "      <td>...</td>\n",
              "      <td>...</td>\n",
              "      <td>...</td>\n",
              "      <td>...</td>\n",
              "      <td>...</td>\n",
              "      <td>...</td>\n",
              "      <td>...</td>\n",
              "      <td>...</td>\n",
              "      <td>...</td>\n",
              "    </tr>\n",
              "    <tr>\n",
              "      <th>2845337</th>\n",
              "      <td>A-2845338</td>\n",
              "      <td>2</td>\n",
              "      <td>2019-08-23 18:03:25</td>\n",
              "      <td>2019-08-23 18:32:01</td>\n",
              "      <td>34.002480</td>\n",
              "      <td>-117.379360</td>\n",
              "      <td>33.998880</td>\n",
              "      <td>-117.370940</td>\n",
              "      <td>0.543</td>\n",
              "      <td>At Market St - Accident.</td>\n",
              "      <td>...</td>\n",
              "      <td>False</td>\n",
              "      <td>False</td>\n",
              "      <td>False</td>\n",
              "      <td>False</td>\n",
              "      <td>False</td>\n",
              "      <td>False</td>\n",
              "      <td>Day</td>\n",
              "      <td>Day</td>\n",
              "      <td>Day</td>\n",
              "      <td>Day</td>\n",
              "    </tr>\n",
              "    <tr>\n",
              "      <th>2845338</th>\n",
              "      <td>A-2845339</td>\n",
              "      <td>2</td>\n",
              "      <td>2019-08-23 19:11:30</td>\n",
              "      <td>2019-08-23 19:38:23</td>\n",
              "      <td>32.766960</td>\n",
              "      <td>-117.148060</td>\n",
              "      <td>32.765550</td>\n",
              "      <td>-117.153630</td>\n",
              "      <td>0.338</td>\n",
              "      <td>At Camino Del Rio/Mission Center Rd - Accident.</td>\n",
              "      <td>...</td>\n",
              "      <td>False</td>\n",
              "      <td>False</td>\n",
              "      <td>False</td>\n",
              "      <td>False</td>\n",
              "      <td>False</td>\n",
              "      <td>False</td>\n",
              "      <td>Day</td>\n",
              "      <td>Day</td>\n",
              "      <td>Day</td>\n",
              "      <td>Day</td>\n",
              "    </tr>\n",
              "    <tr>\n",
              "      <th>2845339</th>\n",
              "      <td>A-2845340</td>\n",
              "      <td>2</td>\n",
              "      <td>2019-08-23 19:00:21</td>\n",
              "      <td>2019-08-23 19:28:49</td>\n",
              "      <td>33.775450</td>\n",
              "      <td>-117.847790</td>\n",
              "      <td>33.777400</td>\n",
              "      <td>-117.857270</td>\n",
              "      <td>0.561</td>\n",
              "      <td>At Glassell St/Grand Ave - Accident. in the ri...</td>\n",
              "      <td>...</td>\n",
              "      <td>False</td>\n",
              "      <td>False</td>\n",
              "      <td>False</td>\n",
              "      <td>False</td>\n",
              "      <td>False</td>\n",
              "      <td>False</td>\n",
              "      <td>Day</td>\n",
              "      <td>Day</td>\n",
              "      <td>Day</td>\n",
              "      <td>Day</td>\n",
              "    </tr>\n",
              "    <tr>\n",
              "      <th>2845340</th>\n",
              "      <td>A-2845341</td>\n",
              "      <td>2</td>\n",
              "      <td>2019-08-23 19:00:21</td>\n",
              "      <td>2019-08-23 19:29:42</td>\n",
              "      <td>33.992460</td>\n",
              "      <td>-118.403020</td>\n",
              "      <td>33.983110</td>\n",
              "      <td>-118.395650</td>\n",
              "      <td>0.772</td>\n",
              "      <td>At CA-90/Marina Fwy/Jefferson Blvd - Accident.</td>\n",
              "      <td>...</td>\n",
              "      <td>False</td>\n",
              "      <td>False</td>\n",
              "      <td>False</td>\n",
              "      <td>False</td>\n",
              "      <td>False</td>\n",
              "      <td>False</td>\n",
              "      <td>Day</td>\n",
              "      <td>Day</td>\n",
              "      <td>Day</td>\n",
              "      <td>Day</td>\n",
              "    </tr>\n",
              "    <tr>\n",
              "      <th>2845341</th>\n",
              "      <td>A-2845342</td>\n",
              "      <td>2</td>\n",
              "      <td>2019-08-23 18:52:06</td>\n",
              "      <td>2019-08-23 19:21:31</td>\n",
              "      <td>34.133930</td>\n",
              "      <td>-117.230920</td>\n",
              "      <td>34.137360</td>\n",
              "      <td>-117.239340</td>\n",
              "      <td>0.537</td>\n",
              "      <td>At Highland Ave/Arden Ave - Accident.</td>\n",
              "      <td>...</td>\n",
              "      <td>False</td>\n",
              "      <td>False</td>\n",
              "      <td>False</td>\n",
              "      <td>False</td>\n",
              "      <td>False</td>\n",
              "      <td>False</td>\n",
              "      <td>Day</td>\n",
              "      <td>Day</td>\n",
              "      <td>Day</td>\n",
              "      <td>Day</td>\n",
              "    </tr>\n",
              "  </tbody>\n",
              "</table>\n",
              "<p>2845342 rows × 47 columns</p>\n",
              "</div>\n",
              "      <button class=\"colab-df-convert\" onclick=\"convertToInteractive('df-13272dee-24d3-417b-af0a-a0638e1a4eb0')\"\n",
              "              title=\"Convert this dataframe to an interactive table.\"\n",
              "              style=\"display:none;\">\n",
              "        \n",
              "  <svg xmlns=\"http://www.w3.org/2000/svg\" height=\"24px\"viewBox=\"0 0 24 24\"\n",
              "       width=\"24px\">\n",
              "    <path d=\"M0 0h24v24H0V0z\" fill=\"none\"/>\n",
              "    <path d=\"M18.56 5.44l.94 2.06.94-2.06 2.06-.94-2.06-.94-.94-2.06-.94 2.06-2.06.94zm-11 1L8.5 8.5l.94-2.06 2.06-.94-2.06-.94L8.5 2.5l-.94 2.06-2.06.94zm10 10l.94 2.06.94-2.06 2.06-.94-2.06-.94-.94-2.06-.94 2.06-2.06.94z\"/><path d=\"M17.41 7.96l-1.37-1.37c-.4-.4-.92-.59-1.43-.59-.52 0-1.04.2-1.43.59L10.3 9.45l-7.72 7.72c-.78.78-.78 2.05 0 2.83L4 21.41c.39.39.9.59 1.41.59.51 0 1.02-.2 1.41-.59l7.78-7.78 2.81-2.81c.8-.78.8-2.07 0-2.86zM5.41 20L4 18.59l7.72-7.72 1.47 1.35L5.41 20z\"/>\n",
              "  </svg>\n",
              "      </button>\n",
              "      \n",
              "  <style>\n",
              "    .colab-df-container {\n",
              "      display:flex;\n",
              "      flex-wrap:wrap;\n",
              "      gap: 12px;\n",
              "    }\n",
              "\n",
              "    .colab-df-convert {\n",
              "      background-color: #E8F0FE;\n",
              "      border: none;\n",
              "      border-radius: 50%;\n",
              "      cursor: pointer;\n",
              "      display: none;\n",
              "      fill: #1967D2;\n",
              "      height: 32px;\n",
              "      padding: 0 0 0 0;\n",
              "      width: 32px;\n",
              "    }\n",
              "\n",
              "    .colab-df-convert:hover {\n",
              "      background-color: #E2EBFA;\n",
              "      box-shadow: 0px 1px 2px rgba(60, 64, 67, 0.3), 0px 1px 3px 1px rgba(60, 64, 67, 0.15);\n",
              "      fill: #174EA6;\n",
              "    }\n",
              "\n",
              "    [theme=dark] .colab-df-convert {\n",
              "      background-color: #3B4455;\n",
              "      fill: #D2E3FC;\n",
              "    }\n",
              "\n",
              "    [theme=dark] .colab-df-convert:hover {\n",
              "      background-color: #434B5C;\n",
              "      box-shadow: 0px 1px 3px 1px rgba(0, 0, 0, 0.15);\n",
              "      filter: drop-shadow(0px 1px 2px rgba(0, 0, 0, 0.3));\n",
              "      fill: #FFFFFF;\n",
              "    }\n",
              "  </style>\n",
              "\n",
              "      <script>\n",
              "        const buttonEl =\n",
              "          document.querySelector('#df-13272dee-24d3-417b-af0a-a0638e1a4eb0 button.colab-df-convert');\n",
              "        buttonEl.style.display =\n",
              "          google.colab.kernel.accessAllowed ? 'block' : 'none';\n",
              "\n",
              "        async function convertToInteractive(key) {\n",
              "          const element = document.querySelector('#df-13272dee-24d3-417b-af0a-a0638e1a4eb0');\n",
              "          const dataTable =\n",
              "            await google.colab.kernel.invokeFunction('convertToInteractive',\n",
              "                                                     [key], {});\n",
              "          if (!dataTable) return;\n",
              "\n",
              "          const docLinkHtml = 'Like what you see? Visit the ' +\n",
              "            '<a target=\"_blank\" href=https://colab.research.google.com/notebooks/data_table.ipynb>data table notebook</a>'\n",
              "            + ' to learn more about interactive tables.';\n",
              "          element.innerHTML = '';\n",
              "          dataTable['output_type'] = 'display_data';\n",
              "          await google.colab.output.renderOutput(dataTable, element);\n",
              "          const docLink = document.createElement('div');\n",
              "          docLink.innerHTML = docLinkHtml;\n",
              "          element.appendChild(docLink);\n",
              "        }\n",
              "      </script>\n",
              "    </div>\n",
              "  </div>\n",
              "  "
            ]
          },
          "metadata": {},
          "execution_count": 9
        }
      ]
    },
    {
      "cell_type": "code",
      "source": [
        "df.info()                                                # gives data types of elements in each column"
      ],
      "metadata": {
        "id": "rdeeaZLCQivR",
        "colab": {
          "base_uri": "https://localhost:8080/"
        },
        "outputId": "67b8ee24-640c-4553-f519-db1b404976c6"
      },
      "execution_count": null,
      "outputs": [
        {
          "output_type": "stream",
          "name": "stdout",
          "text": [
            "<class 'pandas.core.frame.DataFrame'>\n",
            "RangeIndex: 2845342 entries, 0 to 2845341\n",
            "Data columns (total 47 columns):\n",
            " #   Column                 Dtype  \n",
            "---  ------                 -----  \n",
            " 0   ID                     object \n",
            " 1   Severity               int64  \n",
            " 2   Start_Time             object \n",
            " 3   End_Time               object \n",
            " 4   Start_Lat              float64\n",
            " 5   Start_Lng              float64\n",
            " 6   End_Lat                float64\n",
            " 7   End_Lng                float64\n",
            " 8   Distance(mi)           float64\n",
            " 9   Description            object \n",
            " 10  Number                 float64\n",
            " 11  Street                 object \n",
            " 12  Side                   object \n",
            " 13  City                   object \n",
            " 14  County                 object \n",
            " 15  State                  object \n",
            " 16  Zipcode                object \n",
            " 17  Country                object \n",
            " 18  Timezone               object \n",
            " 19  Airport_Code           object \n",
            " 20  Weather_Timestamp      object \n",
            " 21  Temperature(F)         float64\n",
            " 22  Wind_Chill(F)          float64\n",
            " 23  Humidity(%)            float64\n",
            " 24  Pressure(in)           float64\n",
            " 25  Visibility(mi)         float64\n",
            " 26  Wind_Direction         object \n",
            " 27  Wind_Speed(mph)        float64\n",
            " 28  Precipitation(in)      float64\n",
            " 29  Weather_Condition      object \n",
            " 30  Amenity                bool   \n",
            " 31  Bump                   bool   \n",
            " 32  Crossing               bool   \n",
            " 33  Give_Way               bool   \n",
            " 34  Junction               bool   \n",
            " 35  No_Exit                bool   \n",
            " 36  Railway                bool   \n",
            " 37  Roundabout             bool   \n",
            " 38  Station                bool   \n",
            " 39  Stop                   bool   \n",
            " 40  Traffic_Calming        bool   \n",
            " 41  Traffic_Signal         bool   \n",
            " 42  Turning_Loop           bool   \n",
            " 43  Sunrise_Sunset         object \n",
            " 44  Civil_Twilight         object \n",
            " 45  Nautical_Twilight      object \n",
            " 46  Astronomical_Twilight  object \n",
            "dtypes: bool(13), float64(13), int64(1), object(20)\n",
            "memory usage: 773.4+ MB\n"
          ]
        }
      ]
    },
    {
      "cell_type": "code",
      "source": [
        "df.describe()                                            # does all mathematical operations, column wise"
      ],
      "metadata": {
        "id": "vBPXJw1UQmse",
        "colab": {
          "base_uri": "https://localhost:8080/",
          "height": 364
        },
        "outputId": "d2cdcfab-93bf-4091-e8e3-5a1b0267b1ef"
      },
      "execution_count": null,
      "outputs": [
        {
          "output_type": "execute_result",
          "data": {
            "text/plain": [
              "           Severity     Start_Lat     Start_Lng       End_Lat       End_Lng  \\\n",
              "count  2.845342e+06  2.845342e+06  2.845342e+06  2.845342e+06  2.845342e+06   \n",
              "mean   2.137572e+00  3.624520e+01 -9.711463e+01  3.624532e+01 -9.711439e+01   \n",
              "std    4.787216e-01  5.363797e+00  1.831782e+01  5.363873e+00  1.831763e+01   \n",
              "min    1.000000e+00  2.456603e+01 -1.245481e+02  2.456601e+01 -1.245457e+02   \n",
              "25%    2.000000e+00  3.344517e+01 -1.180331e+02  3.344628e+01 -1.180333e+02   \n",
              "50%    2.000000e+00  3.609861e+01 -9.241808e+01  3.609799e+01 -9.241772e+01   \n",
              "75%    2.000000e+00  4.016024e+01 -8.037243e+01  4.016105e+01 -8.037338e+01   \n",
              "max    4.000000e+00  4.900058e+01 -6.711317e+01  4.907500e+01 -6.710924e+01   \n",
              "\n",
              "       Distance(mi)        Number  Temperature(F)  Wind_Chill(F)  \\\n",
              "count  2.845342e+06  1.101431e+06    2.776068e+06   2.375699e+06   \n",
              "mean   7.026779e-01  8.089408e+03    6.179356e+01   5.965823e+01   \n",
              "std    1.560361e+00  1.836009e+04    1.862263e+01   2.116097e+01   \n",
              "min    0.000000e+00  0.000000e+00   -8.900000e+01  -8.900000e+01   \n",
              "25%    5.200000e-02  1.270000e+03    5.000000e+01   4.600000e+01   \n",
              "50%    2.440000e-01  4.007000e+03    6.400000e+01   6.300000e+01   \n",
              "75%    7.640000e-01  9.567000e+03    7.600000e+01   7.600000e+01   \n",
              "max    1.551860e+02  9.999997e+06    1.960000e+02   1.960000e+02   \n",
              "\n",
              "        Humidity(%)  Pressure(in)  Visibility(mi)  Wind_Speed(mph)  \\\n",
              "count  2.772250e+06  2.786142e+06    2.774796e+06     2.687398e+06   \n",
              "mean   6.436545e+01  2.947234e+01    9.099391e+00     7.395044e+00   \n",
              "std    2.287457e+01  1.045286e+00    2.717546e+00     5.527454e+00   \n",
              "min    1.000000e+00  0.000000e+00    0.000000e+00     0.000000e+00   \n",
              "25%    4.800000e+01  2.931000e+01    1.000000e+01     3.500000e+00   \n",
              "50%    6.700000e+01  2.982000e+01    1.000000e+01     7.000000e+00   \n",
              "75%    8.300000e+01  3.001000e+01    1.000000e+01     1.000000e+01   \n",
              "max    1.000000e+02  5.890000e+01    1.400000e+02     1.087000e+03   \n",
              "\n",
              "       Precipitation(in)  \n",
              "count       2.295884e+06  \n",
              "mean        7.016940e-03  \n",
              "std         9.348831e-02  \n",
              "min         0.000000e+00  \n",
              "25%         0.000000e+00  \n",
              "50%         0.000000e+00  \n",
              "75%         0.000000e+00  \n",
              "max         2.400000e+01  "
            ],
            "text/html": [
              "\n",
              "  <div id=\"df-daa606c0-7f65-45ef-9d21-a39cd659c845\">\n",
              "    <div class=\"colab-df-container\">\n",
              "      <div>\n",
              "<style scoped>\n",
              "    .dataframe tbody tr th:only-of-type {\n",
              "        vertical-align: middle;\n",
              "    }\n",
              "\n",
              "    .dataframe tbody tr th {\n",
              "        vertical-align: top;\n",
              "    }\n",
              "\n",
              "    .dataframe thead th {\n",
              "        text-align: right;\n",
              "    }\n",
              "</style>\n",
              "<table border=\"1\" class=\"dataframe\">\n",
              "  <thead>\n",
              "    <tr style=\"text-align: right;\">\n",
              "      <th></th>\n",
              "      <th>Severity</th>\n",
              "      <th>Start_Lat</th>\n",
              "      <th>Start_Lng</th>\n",
              "      <th>End_Lat</th>\n",
              "      <th>End_Lng</th>\n",
              "      <th>Distance(mi)</th>\n",
              "      <th>Number</th>\n",
              "      <th>Temperature(F)</th>\n",
              "      <th>Wind_Chill(F)</th>\n",
              "      <th>Humidity(%)</th>\n",
              "      <th>Pressure(in)</th>\n",
              "      <th>Visibility(mi)</th>\n",
              "      <th>Wind_Speed(mph)</th>\n",
              "      <th>Precipitation(in)</th>\n",
              "    </tr>\n",
              "  </thead>\n",
              "  <tbody>\n",
              "    <tr>\n",
              "      <th>count</th>\n",
              "      <td>2.845342e+06</td>\n",
              "      <td>2.845342e+06</td>\n",
              "      <td>2.845342e+06</td>\n",
              "      <td>2.845342e+06</td>\n",
              "      <td>2.845342e+06</td>\n",
              "      <td>2.845342e+06</td>\n",
              "      <td>1.101431e+06</td>\n",
              "      <td>2.776068e+06</td>\n",
              "      <td>2.375699e+06</td>\n",
              "      <td>2.772250e+06</td>\n",
              "      <td>2.786142e+06</td>\n",
              "      <td>2.774796e+06</td>\n",
              "      <td>2.687398e+06</td>\n",
              "      <td>2.295884e+06</td>\n",
              "    </tr>\n",
              "    <tr>\n",
              "      <th>mean</th>\n",
              "      <td>2.137572e+00</td>\n",
              "      <td>3.624520e+01</td>\n",
              "      <td>-9.711463e+01</td>\n",
              "      <td>3.624532e+01</td>\n",
              "      <td>-9.711439e+01</td>\n",
              "      <td>7.026779e-01</td>\n",
              "      <td>8.089408e+03</td>\n",
              "      <td>6.179356e+01</td>\n",
              "      <td>5.965823e+01</td>\n",
              "      <td>6.436545e+01</td>\n",
              "      <td>2.947234e+01</td>\n",
              "      <td>9.099391e+00</td>\n",
              "      <td>7.395044e+00</td>\n",
              "      <td>7.016940e-03</td>\n",
              "    </tr>\n",
              "    <tr>\n",
              "      <th>std</th>\n",
              "      <td>4.787216e-01</td>\n",
              "      <td>5.363797e+00</td>\n",
              "      <td>1.831782e+01</td>\n",
              "      <td>5.363873e+00</td>\n",
              "      <td>1.831763e+01</td>\n",
              "      <td>1.560361e+00</td>\n",
              "      <td>1.836009e+04</td>\n",
              "      <td>1.862263e+01</td>\n",
              "      <td>2.116097e+01</td>\n",
              "      <td>2.287457e+01</td>\n",
              "      <td>1.045286e+00</td>\n",
              "      <td>2.717546e+00</td>\n",
              "      <td>5.527454e+00</td>\n",
              "      <td>9.348831e-02</td>\n",
              "    </tr>\n",
              "    <tr>\n",
              "      <th>min</th>\n",
              "      <td>1.000000e+00</td>\n",
              "      <td>2.456603e+01</td>\n",
              "      <td>-1.245481e+02</td>\n",
              "      <td>2.456601e+01</td>\n",
              "      <td>-1.245457e+02</td>\n",
              "      <td>0.000000e+00</td>\n",
              "      <td>0.000000e+00</td>\n",
              "      <td>-8.900000e+01</td>\n",
              "      <td>-8.900000e+01</td>\n",
              "      <td>1.000000e+00</td>\n",
              "      <td>0.000000e+00</td>\n",
              "      <td>0.000000e+00</td>\n",
              "      <td>0.000000e+00</td>\n",
              "      <td>0.000000e+00</td>\n",
              "    </tr>\n",
              "    <tr>\n",
              "      <th>25%</th>\n",
              "      <td>2.000000e+00</td>\n",
              "      <td>3.344517e+01</td>\n",
              "      <td>-1.180331e+02</td>\n",
              "      <td>3.344628e+01</td>\n",
              "      <td>-1.180333e+02</td>\n",
              "      <td>5.200000e-02</td>\n",
              "      <td>1.270000e+03</td>\n",
              "      <td>5.000000e+01</td>\n",
              "      <td>4.600000e+01</td>\n",
              "      <td>4.800000e+01</td>\n",
              "      <td>2.931000e+01</td>\n",
              "      <td>1.000000e+01</td>\n",
              "      <td>3.500000e+00</td>\n",
              "      <td>0.000000e+00</td>\n",
              "    </tr>\n",
              "    <tr>\n",
              "      <th>50%</th>\n",
              "      <td>2.000000e+00</td>\n",
              "      <td>3.609861e+01</td>\n",
              "      <td>-9.241808e+01</td>\n",
              "      <td>3.609799e+01</td>\n",
              "      <td>-9.241772e+01</td>\n",
              "      <td>2.440000e-01</td>\n",
              "      <td>4.007000e+03</td>\n",
              "      <td>6.400000e+01</td>\n",
              "      <td>6.300000e+01</td>\n",
              "      <td>6.700000e+01</td>\n",
              "      <td>2.982000e+01</td>\n",
              "      <td>1.000000e+01</td>\n",
              "      <td>7.000000e+00</td>\n",
              "      <td>0.000000e+00</td>\n",
              "    </tr>\n",
              "    <tr>\n",
              "      <th>75%</th>\n",
              "      <td>2.000000e+00</td>\n",
              "      <td>4.016024e+01</td>\n",
              "      <td>-8.037243e+01</td>\n",
              "      <td>4.016105e+01</td>\n",
              "      <td>-8.037338e+01</td>\n",
              "      <td>7.640000e-01</td>\n",
              "      <td>9.567000e+03</td>\n",
              "      <td>7.600000e+01</td>\n",
              "      <td>7.600000e+01</td>\n",
              "      <td>8.300000e+01</td>\n",
              "      <td>3.001000e+01</td>\n",
              "      <td>1.000000e+01</td>\n",
              "      <td>1.000000e+01</td>\n",
              "      <td>0.000000e+00</td>\n",
              "    </tr>\n",
              "    <tr>\n",
              "      <th>max</th>\n",
              "      <td>4.000000e+00</td>\n",
              "      <td>4.900058e+01</td>\n",
              "      <td>-6.711317e+01</td>\n",
              "      <td>4.907500e+01</td>\n",
              "      <td>-6.710924e+01</td>\n",
              "      <td>1.551860e+02</td>\n",
              "      <td>9.999997e+06</td>\n",
              "      <td>1.960000e+02</td>\n",
              "      <td>1.960000e+02</td>\n",
              "      <td>1.000000e+02</td>\n",
              "      <td>5.890000e+01</td>\n",
              "      <td>1.400000e+02</td>\n",
              "      <td>1.087000e+03</td>\n",
              "      <td>2.400000e+01</td>\n",
              "    </tr>\n",
              "  </tbody>\n",
              "</table>\n",
              "</div>\n",
              "      <button class=\"colab-df-convert\" onclick=\"convertToInteractive('df-daa606c0-7f65-45ef-9d21-a39cd659c845')\"\n",
              "              title=\"Convert this dataframe to an interactive table.\"\n",
              "              style=\"display:none;\">\n",
              "        \n",
              "  <svg xmlns=\"http://www.w3.org/2000/svg\" height=\"24px\"viewBox=\"0 0 24 24\"\n",
              "       width=\"24px\">\n",
              "    <path d=\"M0 0h24v24H0V0z\" fill=\"none\"/>\n",
              "    <path d=\"M18.56 5.44l.94 2.06.94-2.06 2.06-.94-2.06-.94-.94-2.06-.94 2.06-2.06.94zm-11 1L8.5 8.5l.94-2.06 2.06-.94-2.06-.94L8.5 2.5l-.94 2.06-2.06.94zm10 10l.94 2.06.94-2.06 2.06-.94-2.06-.94-.94-2.06-.94 2.06-2.06.94z\"/><path d=\"M17.41 7.96l-1.37-1.37c-.4-.4-.92-.59-1.43-.59-.52 0-1.04.2-1.43.59L10.3 9.45l-7.72 7.72c-.78.78-.78 2.05 0 2.83L4 21.41c.39.39.9.59 1.41.59.51 0 1.02-.2 1.41-.59l7.78-7.78 2.81-2.81c.8-.78.8-2.07 0-2.86zM5.41 20L4 18.59l7.72-7.72 1.47 1.35L5.41 20z\"/>\n",
              "  </svg>\n",
              "      </button>\n",
              "      \n",
              "  <style>\n",
              "    .colab-df-container {\n",
              "      display:flex;\n",
              "      flex-wrap:wrap;\n",
              "      gap: 12px;\n",
              "    }\n",
              "\n",
              "    .colab-df-convert {\n",
              "      background-color: #E8F0FE;\n",
              "      border: none;\n",
              "      border-radius: 50%;\n",
              "      cursor: pointer;\n",
              "      display: none;\n",
              "      fill: #1967D2;\n",
              "      height: 32px;\n",
              "      padding: 0 0 0 0;\n",
              "      width: 32px;\n",
              "    }\n",
              "\n",
              "    .colab-df-convert:hover {\n",
              "      background-color: #E2EBFA;\n",
              "      box-shadow: 0px 1px 2px rgba(60, 64, 67, 0.3), 0px 1px 3px 1px rgba(60, 64, 67, 0.15);\n",
              "      fill: #174EA6;\n",
              "    }\n",
              "\n",
              "    [theme=dark] .colab-df-convert {\n",
              "      background-color: #3B4455;\n",
              "      fill: #D2E3FC;\n",
              "    }\n",
              "\n",
              "    [theme=dark] .colab-df-convert:hover {\n",
              "      background-color: #434B5C;\n",
              "      box-shadow: 0px 1px 3px 1px rgba(0, 0, 0, 0.15);\n",
              "      filter: drop-shadow(0px 1px 2px rgba(0, 0, 0, 0.3));\n",
              "      fill: #FFFFFF;\n",
              "    }\n",
              "  </style>\n",
              "\n",
              "      <script>\n",
              "        const buttonEl =\n",
              "          document.querySelector('#df-daa606c0-7f65-45ef-9d21-a39cd659c845 button.colab-df-convert');\n",
              "        buttonEl.style.display =\n",
              "          google.colab.kernel.accessAllowed ? 'block' : 'none';\n",
              "\n",
              "        async function convertToInteractive(key) {\n",
              "          const element = document.querySelector('#df-daa606c0-7f65-45ef-9d21-a39cd659c845');\n",
              "          const dataTable =\n",
              "            await google.colab.kernel.invokeFunction('convertToInteractive',\n",
              "                                                     [key], {});\n",
              "          if (!dataTable) return;\n",
              "\n",
              "          const docLinkHtml = 'Like what you see? Visit the ' +\n",
              "            '<a target=\"_blank\" href=https://colab.research.google.com/notebooks/data_table.ipynb>data table notebook</a>'\n",
              "            + ' to learn more about interactive tables.';\n",
              "          element.innerHTML = '';\n",
              "          dataTable['output_type'] = 'display_data';\n",
              "          await google.colab.output.renderOutput(dataTable, element);\n",
              "          const docLink = document.createElement('div');\n",
              "          docLink.innerHTML = docLinkHtml;\n",
              "          element.appendChild(docLink);\n",
              "        }\n",
              "      </script>\n",
              "    </div>\n",
              "  </div>\n",
              "  "
            ]
          },
          "metadata": {},
          "execution_count": 11
        }
      ]
    },
    {
      "cell_type": "code",
      "source": [
        "numerics = ['int16', 'int32', 'int64', 'float16', 'float32', 'float64']\n",
        "numeric_df = df.select_dtypes(include=numerics)\n",
        "len(numeric_df.columns)"
      ],
      "metadata": {
        "id": "Hb44u85OQovB",
        "colab": {
          "base_uri": "https://localhost:8080/"
        },
        "outputId": "40431c45-8855-4187-a5d6-ef91b6a6a10d"
      },
      "execution_count": null,
      "outputs": [
        {
          "output_type": "execute_result",
          "data": {
            "text/plain": [
              "14"
            ]
          },
          "metadata": {},
          "execution_count": 12
        }
      ]
    },
    {
      "cell_type": "code",
      "source": [
        "df.isna()                                                # returns True if the cell is empty, and returns False if the cell is not empty"
      ],
      "metadata": {
        "id": "7TI7eJDGQuVj",
        "colab": {
          "base_uri": "https://localhost:8080/",
          "height": 488
        },
        "outputId": "a9b43b4c-2470-431a-a241-338ed4ab2a22"
      },
      "execution_count": null,
      "outputs": [
        {
          "output_type": "execute_result",
          "data": {
            "text/plain": [
              "            ID  Severity  Start_Time  End_Time  Start_Lat  Start_Lng  End_Lat  \\\n",
              "0        False     False       False     False      False      False    False   \n",
              "1        False     False       False     False      False      False    False   \n",
              "2        False     False       False     False      False      False    False   \n",
              "3        False     False       False     False      False      False    False   \n",
              "4        False     False       False     False      False      False    False   \n",
              "...        ...       ...         ...       ...        ...        ...      ...   \n",
              "2845337  False     False       False     False      False      False    False   \n",
              "2845338  False     False       False     False      False      False    False   \n",
              "2845339  False     False       False     False      False      False    False   \n",
              "2845340  False     False       False     False      False      False    False   \n",
              "2845341  False     False       False     False      False      False    False   \n",
              "\n",
              "         End_Lng  Distance(mi)  Description  ...  Roundabout  Station   Stop  \\\n",
              "0          False         False        False  ...       False    False  False   \n",
              "1          False         False        False  ...       False    False  False   \n",
              "2          False         False        False  ...       False    False  False   \n",
              "3          False         False        False  ...       False    False  False   \n",
              "4          False         False        False  ...       False    False  False   \n",
              "...          ...           ...          ...  ...         ...      ...    ...   \n",
              "2845337    False         False        False  ...       False    False  False   \n",
              "2845338    False         False        False  ...       False    False  False   \n",
              "2845339    False         False        False  ...       False    False  False   \n",
              "2845340    False         False        False  ...       False    False  False   \n",
              "2845341    False         False        False  ...       False    False  False   \n",
              "\n",
              "         Traffic_Calming  Traffic_Signal  Turning_Loop  Sunrise_Sunset  \\\n",
              "0                  False           False         False           False   \n",
              "1                  False           False         False           False   \n",
              "2                  False           False         False           False   \n",
              "3                  False           False         False           False   \n",
              "4                  False           False         False           False   \n",
              "...                  ...             ...           ...             ...   \n",
              "2845337            False           False         False           False   \n",
              "2845338            False           False         False           False   \n",
              "2845339            False           False         False           False   \n",
              "2845340            False           False         False           False   \n",
              "2845341            False           False         False           False   \n",
              "\n",
              "         Civil_Twilight  Nautical_Twilight  Astronomical_Twilight  \n",
              "0                 False              False                  False  \n",
              "1                 False              False                  False  \n",
              "2                 False              False                  False  \n",
              "3                 False              False                  False  \n",
              "4                 False              False                  False  \n",
              "...                 ...                ...                    ...  \n",
              "2845337           False              False                  False  \n",
              "2845338           False              False                  False  \n",
              "2845339           False              False                  False  \n",
              "2845340           False              False                  False  \n",
              "2845341           False              False                  False  \n",
              "\n",
              "[2845342 rows x 47 columns]"
            ],
            "text/html": [
              "\n",
              "  <div id=\"df-a03ff1e4-0ffc-4b5c-b540-f473ec7c4409\">\n",
              "    <div class=\"colab-df-container\">\n",
              "      <div>\n",
              "<style scoped>\n",
              "    .dataframe tbody tr th:only-of-type {\n",
              "        vertical-align: middle;\n",
              "    }\n",
              "\n",
              "    .dataframe tbody tr th {\n",
              "        vertical-align: top;\n",
              "    }\n",
              "\n",
              "    .dataframe thead th {\n",
              "        text-align: right;\n",
              "    }\n",
              "</style>\n",
              "<table border=\"1\" class=\"dataframe\">\n",
              "  <thead>\n",
              "    <tr style=\"text-align: right;\">\n",
              "      <th></th>\n",
              "      <th>ID</th>\n",
              "      <th>Severity</th>\n",
              "      <th>Start_Time</th>\n",
              "      <th>End_Time</th>\n",
              "      <th>Start_Lat</th>\n",
              "      <th>Start_Lng</th>\n",
              "      <th>End_Lat</th>\n",
              "      <th>End_Lng</th>\n",
              "      <th>Distance(mi)</th>\n",
              "      <th>Description</th>\n",
              "      <th>...</th>\n",
              "      <th>Roundabout</th>\n",
              "      <th>Station</th>\n",
              "      <th>Stop</th>\n",
              "      <th>Traffic_Calming</th>\n",
              "      <th>Traffic_Signal</th>\n",
              "      <th>Turning_Loop</th>\n",
              "      <th>Sunrise_Sunset</th>\n",
              "      <th>Civil_Twilight</th>\n",
              "      <th>Nautical_Twilight</th>\n",
              "      <th>Astronomical_Twilight</th>\n",
              "    </tr>\n",
              "  </thead>\n",
              "  <tbody>\n",
              "    <tr>\n",
              "      <th>0</th>\n",
              "      <td>False</td>\n",
              "      <td>False</td>\n",
              "      <td>False</td>\n",
              "      <td>False</td>\n",
              "      <td>False</td>\n",
              "      <td>False</td>\n",
              "      <td>False</td>\n",
              "      <td>False</td>\n",
              "      <td>False</td>\n",
              "      <td>False</td>\n",
              "      <td>...</td>\n",
              "      <td>False</td>\n",
              "      <td>False</td>\n",
              "      <td>False</td>\n",
              "      <td>False</td>\n",
              "      <td>False</td>\n",
              "      <td>False</td>\n",
              "      <td>False</td>\n",
              "      <td>False</td>\n",
              "      <td>False</td>\n",
              "      <td>False</td>\n",
              "    </tr>\n",
              "    <tr>\n",
              "      <th>1</th>\n",
              "      <td>False</td>\n",
              "      <td>False</td>\n",
              "      <td>False</td>\n",
              "      <td>False</td>\n",
              "      <td>False</td>\n",
              "      <td>False</td>\n",
              "      <td>False</td>\n",
              "      <td>False</td>\n",
              "      <td>False</td>\n",
              "      <td>False</td>\n",
              "      <td>...</td>\n",
              "      <td>False</td>\n",
              "      <td>False</td>\n",
              "      <td>False</td>\n",
              "      <td>False</td>\n",
              "      <td>False</td>\n",
              "      <td>False</td>\n",
              "      <td>False</td>\n",
              "      <td>False</td>\n",
              "      <td>False</td>\n",
              "      <td>False</td>\n",
              "    </tr>\n",
              "    <tr>\n",
              "      <th>2</th>\n",
              "      <td>False</td>\n",
              "      <td>False</td>\n",
              "      <td>False</td>\n",
              "      <td>False</td>\n",
              "      <td>False</td>\n",
              "      <td>False</td>\n",
              "      <td>False</td>\n",
              "      <td>False</td>\n",
              "      <td>False</td>\n",
              "      <td>False</td>\n",
              "      <td>...</td>\n",
              "      <td>False</td>\n",
              "      <td>False</td>\n",
              "      <td>False</td>\n",
              "      <td>False</td>\n",
              "      <td>False</td>\n",
              "      <td>False</td>\n",
              "      <td>False</td>\n",
              "      <td>False</td>\n",
              "      <td>False</td>\n",
              "      <td>False</td>\n",
              "    </tr>\n",
              "    <tr>\n",
              "      <th>3</th>\n",
              "      <td>False</td>\n",
              "      <td>False</td>\n",
              "      <td>False</td>\n",
              "      <td>False</td>\n",
              "      <td>False</td>\n",
              "      <td>False</td>\n",
              "      <td>False</td>\n",
              "      <td>False</td>\n",
              "      <td>False</td>\n",
              "      <td>False</td>\n",
              "      <td>...</td>\n",
              "      <td>False</td>\n",
              "      <td>False</td>\n",
              "      <td>False</td>\n",
              "      <td>False</td>\n",
              "      <td>False</td>\n",
              "      <td>False</td>\n",
              "      <td>False</td>\n",
              "      <td>False</td>\n",
              "      <td>False</td>\n",
              "      <td>False</td>\n",
              "    </tr>\n",
              "    <tr>\n",
              "      <th>4</th>\n",
              "      <td>False</td>\n",
              "      <td>False</td>\n",
              "      <td>False</td>\n",
              "      <td>False</td>\n",
              "      <td>False</td>\n",
              "      <td>False</td>\n",
              "      <td>False</td>\n",
              "      <td>False</td>\n",
              "      <td>False</td>\n",
              "      <td>False</td>\n",
              "      <td>...</td>\n",
              "      <td>False</td>\n",
              "      <td>False</td>\n",
              "      <td>False</td>\n",
              "      <td>False</td>\n",
              "      <td>False</td>\n",
              "      <td>False</td>\n",
              "      <td>False</td>\n",
              "      <td>False</td>\n",
              "      <td>False</td>\n",
              "      <td>False</td>\n",
              "    </tr>\n",
              "    <tr>\n",
              "      <th>...</th>\n",
              "      <td>...</td>\n",
              "      <td>...</td>\n",
              "      <td>...</td>\n",
              "      <td>...</td>\n",
              "      <td>...</td>\n",
              "      <td>...</td>\n",
              "      <td>...</td>\n",
              "      <td>...</td>\n",
              "      <td>...</td>\n",
              "      <td>...</td>\n",
              "      <td>...</td>\n",
              "      <td>...</td>\n",
              "      <td>...</td>\n",
              "      <td>...</td>\n",
              "      <td>...</td>\n",
              "      <td>...</td>\n",
              "      <td>...</td>\n",
              "      <td>...</td>\n",
              "      <td>...</td>\n",
              "      <td>...</td>\n",
              "      <td>...</td>\n",
              "    </tr>\n",
              "    <tr>\n",
              "      <th>2845337</th>\n",
              "      <td>False</td>\n",
              "      <td>False</td>\n",
              "      <td>False</td>\n",
              "      <td>False</td>\n",
              "      <td>False</td>\n",
              "      <td>False</td>\n",
              "      <td>False</td>\n",
              "      <td>False</td>\n",
              "      <td>False</td>\n",
              "      <td>False</td>\n",
              "      <td>...</td>\n",
              "      <td>False</td>\n",
              "      <td>False</td>\n",
              "      <td>False</td>\n",
              "      <td>False</td>\n",
              "      <td>False</td>\n",
              "      <td>False</td>\n",
              "      <td>False</td>\n",
              "      <td>False</td>\n",
              "      <td>False</td>\n",
              "      <td>False</td>\n",
              "    </tr>\n",
              "    <tr>\n",
              "      <th>2845338</th>\n",
              "      <td>False</td>\n",
              "      <td>False</td>\n",
              "      <td>False</td>\n",
              "      <td>False</td>\n",
              "      <td>False</td>\n",
              "      <td>False</td>\n",
              "      <td>False</td>\n",
              "      <td>False</td>\n",
              "      <td>False</td>\n",
              "      <td>False</td>\n",
              "      <td>...</td>\n",
              "      <td>False</td>\n",
              "      <td>False</td>\n",
              "      <td>False</td>\n",
              "      <td>False</td>\n",
              "      <td>False</td>\n",
              "      <td>False</td>\n",
              "      <td>False</td>\n",
              "      <td>False</td>\n",
              "      <td>False</td>\n",
              "      <td>False</td>\n",
              "    </tr>\n",
              "    <tr>\n",
              "      <th>2845339</th>\n",
              "      <td>False</td>\n",
              "      <td>False</td>\n",
              "      <td>False</td>\n",
              "      <td>False</td>\n",
              "      <td>False</td>\n",
              "      <td>False</td>\n",
              "      <td>False</td>\n",
              "      <td>False</td>\n",
              "      <td>False</td>\n",
              "      <td>False</td>\n",
              "      <td>...</td>\n",
              "      <td>False</td>\n",
              "      <td>False</td>\n",
              "      <td>False</td>\n",
              "      <td>False</td>\n",
              "      <td>False</td>\n",
              "      <td>False</td>\n",
              "      <td>False</td>\n",
              "      <td>False</td>\n",
              "      <td>False</td>\n",
              "      <td>False</td>\n",
              "    </tr>\n",
              "    <tr>\n",
              "      <th>2845340</th>\n",
              "      <td>False</td>\n",
              "      <td>False</td>\n",
              "      <td>False</td>\n",
              "      <td>False</td>\n",
              "      <td>False</td>\n",
              "      <td>False</td>\n",
              "      <td>False</td>\n",
              "      <td>False</td>\n",
              "      <td>False</td>\n",
              "      <td>False</td>\n",
              "      <td>...</td>\n",
              "      <td>False</td>\n",
              "      <td>False</td>\n",
              "      <td>False</td>\n",
              "      <td>False</td>\n",
              "      <td>False</td>\n",
              "      <td>False</td>\n",
              "      <td>False</td>\n",
              "      <td>False</td>\n",
              "      <td>False</td>\n",
              "      <td>False</td>\n",
              "    </tr>\n",
              "    <tr>\n",
              "      <th>2845341</th>\n",
              "      <td>False</td>\n",
              "      <td>False</td>\n",
              "      <td>False</td>\n",
              "      <td>False</td>\n",
              "      <td>False</td>\n",
              "      <td>False</td>\n",
              "      <td>False</td>\n",
              "      <td>False</td>\n",
              "      <td>False</td>\n",
              "      <td>False</td>\n",
              "      <td>...</td>\n",
              "      <td>False</td>\n",
              "      <td>False</td>\n",
              "      <td>False</td>\n",
              "      <td>False</td>\n",
              "      <td>False</td>\n",
              "      <td>False</td>\n",
              "      <td>False</td>\n",
              "      <td>False</td>\n",
              "      <td>False</td>\n",
              "      <td>False</td>\n",
              "    </tr>\n",
              "  </tbody>\n",
              "</table>\n",
              "<p>2845342 rows × 47 columns</p>\n",
              "</div>\n",
              "      <button class=\"colab-df-convert\" onclick=\"convertToInteractive('df-a03ff1e4-0ffc-4b5c-b540-f473ec7c4409')\"\n",
              "              title=\"Convert this dataframe to an interactive table.\"\n",
              "              style=\"display:none;\">\n",
              "        \n",
              "  <svg xmlns=\"http://www.w3.org/2000/svg\" height=\"24px\"viewBox=\"0 0 24 24\"\n",
              "       width=\"24px\">\n",
              "    <path d=\"M0 0h24v24H0V0z\" fill=\"none\"/>\n",
              "    <path d=\"M18.56 5.44l.94 2.06.94-2.06 2.06-.94-2.06-.94-.94-2.06-.94 2.06-2.06.94zm-11 1L8.5 8.5l.94-2.06 2.06-.94-2.06-.94L8.5 2.5l-.94 2.06-2.06.94zm10 10l.94 2.06.94-2.06 2.06-.94-2.06-.94-.94-2.06-.94 2.06-2.06.94z\"/><path d=\"M17.41 7.96l-1.37-1.37c-.4-.4-.92-.59-1.43-.59-.52 0-1.04.2-1.43.59L10.3 9.45l-7.72 7.72c-.78.78-.78 2.05 0 2.83L4 21.41c.39.39.9.59 1.41.59.51 0 1.02-.2 1.41-.59l7.78-7.78 2.81-2.81c.8-.78.8-2.07 0-2.86zM5.41 20L4 18.59l7.72-7.72 1.47 1.35L5.41 20z\"/>\n",
              "  </svg>\n",
              "      </button>\n",
              "      \n",
              "  <style>\n",
              "    .colab-df-container {\n",
              "      display:flex;\n",
              "      flex-wrap:wrap;\n",
              "      gap: 12px;\n",
              "    }\n",
              "\n",
              "    .colab-df-convert {\n",
              "      background-color: #E8F0FE;\n",
              "      border: none;\n",
              "      border-radius: 50%;\n",
              "      cursor: pointer;\n",
              "      display: none;\n",
              "      fill: #1967D2;\n",
              "      height: 32px;\n",
              "      padding: 0 0 0 0;\n",
              "      width: 32px;\n",
              "    }\n",
              "\n",
              "    .colab-df-convert:hover {\n",
              "      background-color: #E2EBFA;\n",
              "      box-shadow: 0px 1px 2px rgba(60, 64, 67, 0.3), 0px 1px 3px 1px rgba(60, 64, 67, 0.15);\n",
              "      fill: #174EA6;\n",
              "    }\n",
              "\n",
              "    [theme=dark] .colab-df-convert {\n",
              "      background-color: #3B4455;\n",
              "      fill: #D2E3FC;\n",
              "    }\n",
              "\n",
              "    [theme=dark] .colab-df-convert:hover {\n",
              "      background-color: #434B5C;\n",
              "      box-shadow: 0px 1px 3px 1px rgba(0, 0, 0, 0.15);\n",
              "      filter: drop-shadow(0px 1px 2px rgba(0, 0, 0, 0.3));\n",
              "      fill: #FFFFFF;\n",
              "    }\n",
              "  </style>\n",
              "\n",
              "      <script>\n",
              "        const buttonEl =\n",
              "          document.querySelector('#df-a03ff1e4-0ffc-4b5c-b540-f473ec7c4409 button.colab-df-convert');\n",
              "        buttonEl.style.display =\n",
              "          google.colab.kernel.accessAllowed ? 'block' : 'none';\n",
              "\n",
              "        async function convertToInteractive(key) {\n",
              "          const element = document.querySelector('#df-a03ff1e4-0ffc-4b5c-b540-f473ec7c4409');\n",
              "          const dataTable =\n",
              "            await google.colab.kernel.invokeFunction('convertToInteractive',\n",
              "                                                     [key], {});\n",
              "          if (!dataTable) return;\n",
              "\n",
              "          const docLinkHtml = 'Like what you see? Visit the ' +\n",
              "            '<a target=\"_blank\" href=https://colab.research.google.com/notebooks/data_table.ipynb>data table notebook</a>'\n",
              "            + ' to learn more about interactive tables.';\n",
              "          element.innerHTML = '';\n",
              "          dataTable['output_type'] = 'display_data';\n",
              "          await google.colab.output.renderOutput(dataTable, element);\n",
              "          const docLink = document.createElement('div');\n",
              "          docLink.innerHTML = docLinkHtml;\n",
              "          element.appendChild(docLink);\n",
              "        }\n",
              "      </script>\n",
              "    </div>\n",
              "  </div>\n",
              "  "
            ]
          },
          "metadata": {},
          "execution_count": 13
        }
      ]
    },
    {
      "cell_type": "code",
      "source": [
        "df.isna().sum()                                          # gives the count of missing values for each column"
      ],
      "metadata": {
        "id": "gn1QVpQLQy9j",
        "colab": {
          "base_uri": "https://localhost:8080/"
        },
        "outputId": "f8986ba8-c1b7-49c3-9303-ace1ed511a8e"
      },
      "execution_count": null,
      "outputs": [
        {
          "output_type": "execute_result",
          "data": {
            "text/plain": [
              "ID                             0\n",
              "Severity                       0\n",
              "Start_Time                     0\n",
              "End_Time                       0\n",
              "Start_Lat                      0\n",
              "Start_Lng                      0\n",
              "End_Lat                        0\n",
              "End_Lng                        0\n",
              "Distance(mi)                   0\n",
              "Description                    0\n",
              "Number                   1743911\n",
              "Street                         2\n",
              "Side                           0\n",
              "City                         137\n",
              "County                         0\n",
              "State                          0\n",
              "Zipcode                     1319\n",
              "Country                        0\n",
              "Timezone                    3659\n",
              "Airport_Code                9549\n",
              "Weather_Timestamp          50736\n",
              "Temperature(F)             69274\n",
              "Wind_Chill(F)             469643\n",
              "Humidity(%)                73092\n",
              "Pressure(in)               59200\n",
              "Visibility(mi)             70546\n",
              "Wind_Direction             73775\n",
              "Wind_Speed(mph)           157944\n",
              "Precipitation(in)         549458\n",
              "Weather_Condition          70636\n",
              "Amenity                        0\n",
              "Bump                           0\n",
              "Crossing                       0\n",
              "Give_Way                       0\n",
              "Junction                       0\n",
              "No_Exit                        0\n",
              "Railway                        0\n",
              "Roundabout                     0\n",
              "Station                        0\n",
              "Stop                           0\n",
              "Traffic_Calming                0\n",
              "Traffic_Signal                 0\n",
              "Turning_Loop                   0\n",
              "Sunrise_Sunset              2867\n",
              "Civil_Twilight              2867\n",
              "Nautical_Twilight           2867\n",
              "Astronomical_Twilight       2867\n",
              "dtype: int64"
            ]
          },
          "metadata": {},
          "execution_count": 14
        }
      ]
    },
    {
      "cell_type": "code",
      "source": [
        "df.isna().sum().sort_values(ascending=False)             # gives the count of missing values for each column in descending"
      ],
      "metadata": {
        "id": "gNdWMeJ8Q5IL",
        "colab": {
          "base_uri": "https://localhost:8080/"
        },
        "outputId": "07de04d2-b9c9-4fc8-b895-58d3fd234911"
      },
      "execution_count": null,
      "outputs": [
        {
          "output_type": "execute_result",
          "data": {
            "text/plain": [
              "Number                   1743911\n",
              "Precipitation(in)         549458\n",
              "Wind_Chill(F)             469643\n",
              "Wind_Speed(mph)           157944\n",
              "Wind_Direction             73775\n",
              "Humidity(%)                73092\n",
              "Weather_Condition          70636\n",
              "Visibility(mi)             70546\n",
              "Temperature(F)             69274\n",
              "Pressure(in)               59200\n",
              "Weather_Timestamp          50736\n",
              "Airport_Code                9549\n",
              "Timezone                    3659\n",
              "Nautical_Twilight           2867\n",
              "Civil_Twilight              2867\n",
              "Sunrise_Sunset              2867\n",
              "Astronomical_Twilight       2867\n",
              "Zipcode                     1319\n",
              "City                         137\n",
              "Street                         2\n",
              "Country                        0\n",
              "Junction                       0\n",
              "Start_Time                     0\n",
              "End_Time                       0\n",
              "Start_Lat                      0\n",
              "Turning_Loop                   0\n",
              "Traffic_Signal                 0\n",
              "Traffic_Calming                0\n",
              "Stop                           0\n",
              "Station                        0\n",
              "Roundabout                     0\n",
              "Railway                        0\n",
              "No_Exit                        0\n",
              "Crossing                       0\n",
              "Give_Way                       0\n",
              "Bump                           0\n",
              "Amenity                        0\n",
              "Start_Lng                      0\n",
              "End_Lat                        0\n",
              "End_Lng                        0\n",
              "Distance(mi)                   0\n",
              "Description                    0\n",
              "Severity                       0\n",
              "Side                           0\n",
              "County                         0\n",
              "State                          0\n",
              "ID                             0\n",
              "dtype: int64"
            ]
          },
          "metadata": {},
          "execution_count": 15
        }
      ]
    },
    {
      "cell_type": "code",
      "source": [
        "missing_percentages = df.isna().sum().sort_values(ascending=False)/len(df)     # percentage of missing data is found column wise (number of missing cells / total number of cells )\n",
        "missing_percentages"
      ],
      "metadata": {
        "id": "qeQ_MFx0RAgf",
        "colab": {
          "base_uri": "https://localhost:8080/"
        },
        "outputId": "1b8a7ceb-a101-4273-a159-ddbeef37560a"
      },
      "execution_count": null,
      "outputs": [
        {
          "output_type": "execute_result",
          "data": {
            "text/plain": [
              "Number                   6.129003e-01\n",
              "Precipitation(in)        1.931079e-01\n",
              "Wind_Chill(F)            1.650568e-01\n",
              "Wind_Speed(mph)          5.550967e-02\n",
              "Wind_Direction           2.592834e-02\n",
              "Humidity(%)              2.568830e-02\n",
              "Weather_Condition        2.482514e-02\n",
              "Visibility(mi)           2.479350e-02\n",
              "Temperature(F)           2.434646e-02\n",
              "Pressure(in)             2.080593e-02\n",
              "Weather_Timestamp        1.783125e-02\n",
              "Airport_Code             3.356011e-03\n",
              "Timezone                 1.285961e-03\n",
              "Nautical_Twilight        1.007612e-03\n",
              "Civil_Twilight           1.007612e-03\n",
              "Sunrise_Sunset           1.007612e-03\n",
              "Astronomical_Twilight    1.007612e-03\n",
              "Zipcode                  4.635647e-04\n",
              "City                     4.814887e-05\n",
              "Street                   7.029032e-07\n",
              "Country                  0.000000e+00\n",
              "Junction                 0.000000e+00\n",
              "Start_Time               0.000000e+00\n",
              "End_Time                 0.000000e+00\n",
              "Start_Lat                0.000000e+00\n",
              "Turning_Loop             0.000000e+00\n",
              "Traffic_Signal           0.000000e+00\n",
              "Traffic_Calming          0.000000e+00\n",
              "Stop                     0.000000e+00\n",
              "Station                  0.000000e+00\n",
              "Roundabout               0.000000e+00\n",
              "Railway                  0.000000e+00\n",
              "No_Exit                  0.000000e+00\n",
              "Crossing                 0.000000e+00\n",
              "Give_Way                 0.000000e+00\n",
              "Bump                     0.000000e+00\n",
              "Amenity                  0.000000e+00\n",
              "Start_Lng                0.000000e+00\n",
              "End_Lat                  0.000000e+00\n",
              "End_Lng                  0.000000e+00\n",
              "Distance(mi)             0.000000e+00\n",
              "Description              0.000000e+00\n",
              "Severity                 0.000000e+00\n",
              "Side                     0.000000e+00\n",
              "County                   0.000000e+00\n",
              "State                    0.000000e+00\n",
              "ID                       0.000000e+00\n",
              "dtype: float64"
            ]
          },
          "metadata": {},
          "execution_count": 16
        }
      ]
    },
    {
      "cell_type": "code",
      "source": [
        "missing_percentages[missing_percentages != 0]"
      ],
      "metadata": {
        "id": "F1I-MAriRISE",
        "colab": {
          "base_uri": "https://localhost:8080/"
        },
        "outputId": "f7cc4fab-0102-4912-8b5a-6669e813f9b7"
      },
      "execution_count": null,
      "outputs": [
        {
          "output_type": "execute_result",
          "data": {
            "text/plain": [
              "Number                   6.129003e-01\n",
              "Precipitation(in)        1.931079e-01\n",
              "Wind_Chill(F)            1.650568e-01\n",
              "Wind_Speed(mph)          5.550967e-02\n",
              "Wind_Direction           2.592834e-02\n",
              "Humidity(%)              2.568830e-02\n",
              "Weather_Condition        2.482514e-02\n",
              "Visibility(mi)           2.479350e-02\n",
              "Temperature(F)           2.434646e-02\n",
              "Pressure(in)             2.080593e-02\n",
              "Weather_Timestamp        1.783125e-02\n",
              "Airport_Code             3.356011e-03\n",
              "Timezone                 1.285961e-03\n",
              "Nautical_Twilight        1.007612e-03\n",
              "Civil_Twilight           1.007612e-03\n",
              "Sunrise_Sunset           1.007612e-03\n",
              "Astronomical_Twilight    1.007612e-03\n",
              "Zipcode                  4.635647e-04\n",
              "City                     4.814887e-05\n",
              "Street                   7.029032e-07\n",
              "dtype: float64"
            ]
          },
          "metadata": {},
          "execution_count": 17
        }
      ]
    },
    {
      "cell_type": "code",
      "source": [
        "missing_percentages[missing_percentages != 0].plot(kind = 'barh')"
      ],
      "metadata": {
        "id": "FLdldUAhRLXT",
        "colab": {
          "base_uri": "https://localhost:8080/",
          "height": 282
        },
        "outputId": "839ac509-cf07-478d-e319-873abcafc1f8"
      },
      "execution_count": null,
      "outputs": [
        {
          "output_type": "execute_result",
          "data": {
            "text/plain": [
              "<matplotlib.axes._subplots.AxesSubplot at 0x7fdc8a4d5a50>"
            ]
          },
          "metadata": {},
          "execution_count": 18
        },
        {
          "output_type": "display_data",
          "data": {
            "text/plain": [
              "<Figure size 432x288 with 1 Axes>"
            ],
            "image/png": "[encoded data removed]"
          },
          "metadata": {
            "needs_background": "light"
          }
        }
      ]
    },
    {
      "cell_type": "markdown",
      "source": [
        "## 3. Exploratory analysis & Visualization\n",
        "\n",
        "Columns we'll analyze :\n",
        "- City\n",
        "- Start time\n",
        "- Start Lat, Start Lng"
      ],
      "metadata": {
        "id": "IFrnTCmlRQ2m"
      }
    },
    {
      "cell_type": "code",
      "source": [
        "df.columns"
      ],
      "metadata": {
        "id": "Dg7MVMosRR5X",
        "colab": {
          "base_uri": "https://localhost:8080/"
        },
        "outputId": "a33e5c04-9f72-4c88-c0a4-a0e7563cfd57"
      },
      "execution_count": null,
      "outputs": [
        {
          "output_type": "execute_result",
          "data": {
            "text/plain": [
              "Index(['ID', 'Severity', 'Start_Time', 'End_Time', 'Start_Lat', 'Start_Lng',\n",
              "       'End_Lat', 'End_Lng', 'Distance(mi)', 'Description', 'Number', 'Street',\n",
              "       'Side', 'City', 'County', 'State', 'Zipcode', 'Country', 'Timezone',\n",
              "       'Airport_Code', 'Weather_Timestamp', 'Temperature(F)', 'Wind_Chill(F)',\n",
              "       'Humidity(%)', 'Pressure(in)', 'Visibility(mi)', 'Wind_Direction',\n",
              "       'Wind_Speed(mph)', 'Precipitation(in)', 'Weather_Condition', 'Amenity',\n",
              "       'Bump', 'Crossing', 'Give_Way', 'Junction', 'No_Exit', 'Railway',\n",
              "       'Roundabout', 'Station', 'Stop', 'Traffic_Calming', 'Traffic_Signal',\n",
              "       'Turning_Loop', 'Sunrise_Sunset', 'Civil_Twilight', 'Nautical_Twilight',\n",
              "       'Astronomical_Twilight'],\n",
              "      dtype='object')"
            ]
          },
          "metadata": {},
          "execution_count": 19
        }
      ]
    },
    {
      "cell_type": "markdown",
      "source": [
        "### City"
      ],
      "metadata": {
        "id": "Jn0XNZ1IeOdW"
      }
    },
    {
      "cell_type": "code",
      "source": [
        "df.City"
      ],
      "metadata": {
        "id": "aNaAF_S6RdGn",
        "colab": {
          "base_uri": "https://localhost:8080/"
        },
        "outputId": "e06887d8-46c3-419d-ae85-20f972fbac74"
      },
      "execution_count": null,
      "outputs": [
        {
          "output_type": "execute_result",
          "data": {
            "text/plain": [
              "0               Dublin\n",
              "1               Dayton\n",
              "2           Cincinnati\n",
              "3                Akron\n",
              "4           Cincinnati\n",
              "              ...     \n",
              "2845337      Riverside\n",
              "2845338      San Diego\n",
              "2845339         Orange\n",
              "2845340    Culver City\n",
              "2845341       Highland\n",
              "Name: City, Length: 2845342, dtype: object"
            ]
          },
          "metadata": {},
          "execution_count": 20
        }
      ]
    },
    {
      "cell_type": "code",
      "source": [
        "cities = df.City.unique()\n",
        "len(cities)"
      ],
      "metadata": {
        "id": "_ObmeYW3RdDY",
        "colab": {
          "base_uri": "https://localhost:8080/"
        },
        "outputId": "bb1885dc-4eea-42e2-bf9d-2aba16638b12"
      },
      "execution_count": null,
      "outputs": [
        {
          "output_type": "execute_result",
          "data": {
            "text/plain": [
              "11682"
            ]
          },
          "metadata": {},
          "execution_count": 21
        }
      ]
    },
    {
      "cell_type": "code",
      "source": [
        "cities_by_accident = df.City.value_counts()\n",
        "cities_by_accident"
      ],
      "metadata": {
        "id": "tishnI3MRdA1",
        "colab": {
          "base_uri": "https://localhost:8080/"
        },
        "outputId": "19362811-b717-4440-afbf-fde900f40450"
      },
      "execution_count": null,
      "outputs": [
        {
          "output_type": "execute_result",
          "data": {
            "text/plain": [
              "Miami                           106966\n",
              "Los Angeles                      68956\n",
              "Orlando                          54691\n",
              "Dallas                           41979\n",
              "Houston                          39448\n",
              "                                 ...  \n",
              "Ridgedale                            1\n",
              "Sekiu                                1\n",
              "Wooldridge                           1\n",
              "Bullock                              1\n",
              "American Fork-Pleasant Grove         1\n",
              "Name: City, Length: 11681, dtype: int64"
            ]
          },
          "metadata": {},
          "execution_count": 22
        }
      ]
    },
    {
      "cell_type": "code",
      "source": [
        "cities_by_accident[:20]"
      ],
      "metadata": {
        "id": "nrW8ayffVrTi",
        "colab": {
          "base_uri": "https://localhost:8080/"
        },
        "outputId": "72167810-0d21-4203-e5e8-bc0ac88f6f1d"
      },
      "execution_count": null,
      "outputs": [
        {
          "output_type": "execute_result",
          "data": {
            "text/plain": [
              "Miami           106966\n",
              "Los Angeles      68956\n",
              "Orlando          54691\n",
              "Dallas           41979\n",
              "Houston          39448\n",
              "Charlotte        33152\n",
              "Sacramento       32559\n",
              "San Diego        26627\n",
              "Raleigh          22840\n",
              "Minneapolis      22768\n",
              "Portland         20944\n",
              "Nashville        20267\n",
              "Austin           18301\n",
              "Baton Rouge      18182\n",
              "Phoenix          17143\n",
              "Saint Paul       16869\n",
              "New Orleans      16251\n",
              "Atlanta          15622\n",
              "Jacksonville     14967\n",
              "Richmond         14349\n",
              "Name: City, dtype: int64"
            ]
          },
          "metadata": {},
          "execution_count": 23
        }
      ]
    },
    {
      "cell_type": "code",
      "source": [
        "cities_by_accident[:20].plot(kind = 'barh')"
      ],
      "metadata": {
        "id": "iPRehdluWWc_",
        "colab": {
          "base_uri": "https://localhost:8080/"
        },
        "outputId": "612a1a82-1361-48ea-c513-af0e8fac6af3"
      },
      "execution_count": null,
      "outputs": [
        {
          "output_type": "execute_result",
          "data": {
            "text/plain": [
              "<matplotlib.axes._subplots.AxesSubplot at 0x7fdcc1a1ead0>"
            ]
          },
          "metadata": {},
          "execution_count": 24
        },
        {
          "output_type": "display_data",
          "data": {
            "text/plain": [
              "<Figure size 432x288 with 1 Axes>"
            ],
            "image/png": "[encoded data removed]"
          },
          "metadata": {
            "needs_background": "light"
          }
        }
      ]
    },
    {
      "cell_type": "code",
      "source": [
        "import seaborn as sns\n",
        "sns.set_style(\"darkgrid\")"
      ],
      "metadata": {
        "id": "x1w7axkAWWat"
      },
      "execution_count": null,
      "outputs": []
    },
    {
      "cell_type": "code",
      "source": [
        "sns.histplot(cities_by_accident, log_scale = True)"
      ],
      "metadata": {
        "id": "tsD5rRT2WWX7",
        "colab": {
          "base_uri": "https://localhost:8080/"
        },
        "outputId": "b66cf455-08da-45df-989a-14da12a7d2bf"
      },
      "execution_count": null,
      "outputs": [
        {
          "output_type": "execute_result",
          "data": {
            "text/plain": [
              "<matplotlib.axes._subplots.AxesSubplot at 0x7fdcc31dc950>"
            ]
          },
          "metadata": {},
          "execution_count": 26
        },
        {
          "output_type": "display_data",
          "data": {
            "text/plain": [
              "<Figure size 432x288 with 1 Axes>"
            ],
            "image/png": "[encoded data removed]"
          },
          "metadata": {}
        }
      ]
    },
    {
      "cell_type": "code",
      "source": [
        "cities_by_accident[cities_by_accident == 1]"
      ],
      "metadata": {
        "id": "-k3il8jvcWNW",
        "colab": {
          "base_uri": "https://localhost:8080/"
        },
        "outputId": "fcb66f42-7590-4757-a6c2-2a7a96c10a33"
      },
      "execution_count": null,
      "outputs": [
        {
          "output_type": "execute_result",
          "data": {
            "text/plain": [
              "Carney                          1\n",
              "Waverly Hall                    1\n",
              "Center Sandwich                 1\n",
              "Glen Flora                      1\n",
              "Sulphur Springs                 1\n",
              "                               ..\n",
              "Ridgedale                       1\n",
              "Sekiu                           1\n",
              "Wooldridge                      1\n",
              "Bullock                         1\n",
              "American Fork-Pleasant Grove    1\n",
              "Name: City, Length: 1110, dtype: int64"
            ]
          },
          "metadata": {},
          "execution_count": 27
        }
      ]
    },
    {
      "cell_type": "markdown",
      "source": [
        "### Start Time "
      ],
      "metadata": {
        "id": "NotqCmWGd7q9"
      }
    },
    {
      "cell_type": "code",
      "source": [
        "df.Start_Time"
      ],
      "metadata": {
        "id": "SnFxIHatfg1Q",
        "colab": {
          "base_uri": "https://localhost:8080/"
        },
        "outputId": "9c96f0eb-253e-4135-97e8-bcd33835bc76"
      },
      "execution_count": null,
      "outputs": [
        {
          "output_type": "execute_result",
          "data": {
            "text/plain": [
              "0          2016-02-08 00:37:08\n",
              "1          2016-02-08 05:56:20\n",
              "2          2016-02-08 06:15:39\n",
              "3          2016-02-08 06:51:45\n",
              "4          2016-02-08 07:53:43\n",
              "                  ...         \n",
              "2845337    2019-08-23 18:03:25\n",
              "2845338    2019-08-23 19:11:30\n",
              "2845339    2019-08-23 19:00:21\n",
              "2845340    2019-08-23 19:00:21\n",
              "2845341    2019-08-23 18:52:06\n",
              "Name: Start_Time, Length: 2845342, dtype: object"
            ]
          },
          "metadata": {},
          "execution_count": 28
        }
      ]
    },
    {
      "cell_type": "code",
      "source": [
        "df.Start_Time = pd.to_datetime(df.Start_Time)"
      ],
      "metadata": {
        "id": "XKL__LrygDaw"
      },
      "execution_count": null,
      "outputs": []
    },
    {
      "cell_type": "code",
      "source": [
        "sns.distplot(df.Start_Time.dt.hour, bins = 24, kde = False, norm_hist = True)"
      ],
      "metadata": {
        "id": "hYFzmynpgiFn",
        "colab": {
          "base_uri": "https://localhost:8080/"
        },
        "outputId": "a33b56fa-c1c7-4f55-8d29-455905dd227e"
      },
      "execution_count": null,
      "outputs": [
        {
          "output_type": "stream",
          "name": "stderr",
          "text": [
            "/usr/local/lib/python3.7/dist-packages/seaborn/distributions.py:2619: FutureWarning: `distplot` is a deprecated function and will be removed in a future version. Please adapt your code to use either `displot` (a figure-level function with similar flexibility) or `histplot` (an axes-level function for histograms).\n",
            "  warnings.warn(msg, FutureWarning)\n"
          ]
        },
        {
          "output_type": "execute_result",
          "data": {
            "text/plain": [
              "<matplotlib.axes._subplots.AxesSubplot at 0x7fdc75e75dd0>"
            ]
          },
          "metadata": {},
          "execution_count": 30
        },
        {
          "output_type": "display_data",
          "data": {
            "text/plain": [
              "<Figure size 432x288 with 1 Axes>"
            ],
            "image/png": "[encoded data removed]"
          },
          "metadata": {}
        }
      ]
    },
    {
      "cell_type": "code",
      "source": [
        "sns.distplot(df.Start_Time.dt.dayofweek, bins = 7, kde = False, norm_hist = True)"
      ],
      "metadata": {
        "id": "NvKIxOAJ_fK6",
        "colab": {
          "base_uri": "https://localhost:8080/"
        },
        "outputId": "4797e0ca-7243-453a-88db-b7f0fb26236e"
      },
      "execution_count": null,
      "outputs": [
        {
          "output_type": "execute_result",
          "data": {
            "text/plain": [
              "<matplotlib.axes._subplots.AxesSubplot at 0x7fdc75e2b650>"
            ]
          },
          "metadata": {},
          "execution_count": 31
        },
        {
          "output_type": "display_data",
          "data": {
            "text/plain": [
              "<Figure size 432x288 with 1 Axes>"
            ],
            "image/png": "[encoded data removed]"
          },
          "metadata": {}
        }
      ]
    },
    {
      "cell_type": "code",
      "source": [
        "sundays_start_time = df.Start_Time[df.Start_Time.dt.dayofweek == 6]\n",
        "sns.distplot(sundays_start_time.dt.hour, bins = 24, kde = False, norm_hist = True)"
      ],
      "metadata": {
        "id": "F64m1dlNp7mH",
        "colab": {
          "base_uri": "https://localhost:8080/"
        },
        "outputId": "b9be2999-17fd-4990-937d-5645482b9f0c"
      },
      "execution_count": null,
      "outputs": [
        {
          "output_type": "execute_result",
          "data": {
            "text/plain": [
              "<matplotlib.axes._subplots.AxesSubplot at 0x7fdcd6010d90>"
            ]
          },
          "metadata": {},
          "execution_count": 32
        },
        {
          "output_type": "display_data",
          "data": {
            "text/plain": [
              "<Figure size 432x288 with 1 Axes>"
            ],
            "image/png": "[encoded data removed]"
          },
          "metadata": {}
        }
      ]
    },
    {
      "cell_type": "markdown",
      "source": [
        "### Start Latitude and Start Longitude"
      ],
      "metadata": {
        "id": "ZaklZ3e60xn9"
      }
    },
    {
      "cell_type": "code",
      "source": [
        "df.Start_Lat"
      ],
      "metadata": {
        "id": "xM4q3CQmxvuS",
        "colab": {
          "base_uri": "https://localhost:8080/"
        },
        "outputId": "26b367cf-a955-4187-f2ce-7c5d6a209c2c"
      },
      "execution_count": null,
      "outputs": [
        {
          "output_type": "execute_result",
          "data": {
            "text/plain": [
              "0          40.108910\n",
              "1          39.865420\n",
              "2          39.102660\n",
              "3          41.062130\n",
              "4          39.172393\n",
              "             ...    \n",
              "2845337    34.002480\n",
              "2845338    32.766960\n",
              "2845339    33.775450\n",
              "2845340    33.992460\n",
              "2845341    34.133930\n",
              "Name: Start_Lat, Length: 2845342, dtype: float64"
            ]
          },
          "metadata": {},
          "execution_count": 33
        }
      ]
    },
    {
      "cell_type": "code",
      "source": [
        "df.Start_Lng"
      ],
      "metadata": {
        "id": "LZ_kf_mLxvpV",
        "colab": {
          "base_uri": "https://localhost:8080/"
        },
        "outputId": "30b2a3db-d55f-4327-b231-f8d2a400ee10"
      },
      "execution_count": null,
      "outputs": [
        {
          "output_type": "execute_result",
          "data": {
            "text/plain": [
              "0          -83.092860\n",
              "1          -84.062800\n",
              "2          -84.524680\n",
              "3          -81.537840\n",
              "4          -84.492792\n",
              "              ...    \n",
              "2845337   -117.379360\n",
              "2845338   -117.148060\n",
              "2845339   -117.847790\n",
              "2845340   -118.403020\n",
              "2845341   -117.230920\n",
              "Name: Start_Lng, Length: 2845342, dtype: float64"
            ]
          },
          "metadata": {},
          "execution_count": 34
        }
      ]
    },
    {
      "cell_type": "code",
      "source": [
        "sample_df = df.sample(int(0.1 * len(df))) "
      ],
      "metadata": {
        "id": "-jb-vExD2xCn"
      },
      "execution_count": null,
      "outputs": []
    },
    {
      "cell_type": "code",
      "source": [
        "sns.scatterplot(x = sample_df.Start_Lng, y =sample_df.Start_Lat, size = 0.001) "
      ],
      "metadata": {
        "id": "eunBLoD42w9A",
        "colab": {
          "base_uri": "https://localhost:8080/"
        },
        "outputId": "428803ad-95e3-4e9a-9be7-07ef0d26022e"
      },
      "execution_count": null,
      "outputs": [
        {
          "output_type": "execute_result",
          "data": {
            "text/plain": [
              "<matplotlib.axes._subplots.AxesSubplot at 0x7fdc75cf1d90>"
            ]
          },
          "metadata": {},
          "execution_count": 36
        },
        {
          "output_type": "display_data",
          "data": {
            "text/plain": [
              "<Figure size 432x288 with 1 Axes>"
            ],
            "image/png": "[encoded data removed]"
          },
          "metadata": {}
        }
      ]
    },
    {
      "cell_type": "code",
      "source": [
        "import folium"
      ],
      "metadata": {
        "id": "r-rJQbrG31g0"
      },
      "execution_count": null,
      "outputs": []
    },
    {
      "cell_type": "code",
      "source": [
        "lat, lon = df.Start_Lat[0], df.Start_Lng[0]\n",
        "lat, lon"
      ],
      "metadata": {
        "id": "_fSC32XV4qLh",
        "colab": {
          "base_uri": "https://localhost:8080/"
        },
        "outputId": "8d067140-691d-4309-a6bd-3997574b4add"
      },
      "execution_count": null,
      "outputs": [
        {
          "output_type": "execute_result",
          "data": {
            "text/plain": [
              "(40.10891, -83.09286)"
            ]
          },
          "metadata": {},
          "execution_count": 38
        }
      ]
    },
    {
      "cell_type": "code",
      "source": [
        "for x in df[['Start_Lat', 'Start_Lng']].sample(100).iteritems():\n",
        "  print(x[1])"
      ],
      "metadata": {
        "id": "awIc7MoG544x",
        "colab": {
          "base_uri": "https://localhost:8080/"
        },
        "outputId": "0acbf8ba-63db-45b1-e62c-16532c3de6d4"
      },
      "execution_count": null,
      "outputs": [
        {
          "output_type": "stream",
          "name": "stdout",
          "text": [
            "464618     32.855483\n",
            "800346     41.684070\n",
            "310463     45.859055\n",
            "1390907    38.918384\n",
            "485629     34.063079\n",
            "             ...    \n",
            "2317444    40.305920\n",
            "1183275    25.877380\n",
            "1162814    37.555535\n",
            "2744166    39.295472\n",
            "2193282    36.326699\n",
            "Name: Start_Lat, Length: 100, dtype: float64\n",
            "464618     -87.941833\n",
            "800346     -93.153494\n",
            "310463    -123.961377\n",
            "1390907    -81.725543\n",
            "485629     -81.046331\n",
            "              ...    \n",
            "2317444   -111.258900\n",
            "1183275    -80.210294\n",
            "1162814    -77.487399\n",
            "2744166    -76.524808\n",
            "2193282   -119.211913\n",
            "Name: Start_Lng, Length: 100, dtype: float64\n"
          ]
        }
      ]
    },
    {
      "cell_type": "code",
      "source": [
        "zip(list(df.Start_Lat), list(df.Start_Lng))"
      ],
      "metadata": {
        "id": "i0IjyKmd73nJ",
        "colab": {
          "base_uri": "https://localhost:8080/"
        },
        "outputId": "64e4dd6a-095c-416b-9c41-332deb146b92"
      },
      "execution_count": null,
      "outputs": [
        {
          "output_type": "execute_result",
          "data": {
            "text/plain": [
              "<zip at 0x7fdc73e1afa0>"
            ]
          },
          "metadata": {},
          "execution_count": 40
        }
      ]
    },
    {
      "cell_type": "code",
      "source": [
        "from folium.plugins import HeatMap"
      ],
      "metadata": {
        "id": "o2vNHso28xOy"
      },
      "execution_count": null,
      "outputs": []
    },
    {
      "cell_type": "code",
      "source": [
        "sample_df = df.sample(int(0.001 * len(df)))\n",
        "lat_lon_pairs = list(zip(list(sample_df.Start_Lat), list(sample_df.Start_Lng)))"
      ],
      "metadata": {
        "id": "x4GPtj_39NAh"
      },
      "execution_count": null,
      "outputs": []
    },
    {
      "cell_type": "code",
      "source": [
        "map = folium.Map()\n",
        "HeatMap(lat_lon_pairs).add_to(map)\n",
        "map"
      ],
      "metadata": {
        "id": "kYBZqkOS3-WR",
        "colab": {
          "base_uri": "https://localhost:8080/"
        },
        "outputId": "e0617dcc-a397-4020-aff4-4113c8741975"
      },
      "execution_count": null,
      "outputs": [
        {
          "output_type": "execute_result",
          "data": {
            "text/plain": [
              "<folium.folium.Map at 0x7fdc75cf9bd0>"
            ],
            "text/html": [
              "<div style=\"width:100%;\"><div style=\"position:relative;width:100%;height:0;padding-bottom:60%;\"><span style=\"color:#565656\">Make this Notebook Trusted to load map: File -> Trust Notebook</span><iframe srcdoc=\"&lt;!DOCTYPE html&gt;\n",
              "&lt;html&gt;\n",
              "&lt;head&gt;\n",
              "    \n",
              "    &lt;meta http-equiv=&quot;content-type&quot; content=&quot;text/html; charset=UTF-8&quot; /&gt;\n",
              "    \n",
              "        &lt;script&gt;\n",
              "            L_NO_TOUCH = false;\n",
              "            L_DISABLE_3D = false;\n",
              "        &lt;/script&gt;\n",
              "    \n",
              "    &lt;style&gt;html, body {width: 100%;height: 100%;margin: 0;padding: 0;}&lt;/style&gt;\n",
              "    &lt;style&gt;#map {position:absolute;top:0;bottom:0;right:0;left:0;}&lt;/style&gt;\n",
              "    &lt;script src=&quot;https://cdn.jsdelivr.net/npm/leaflet@1.6.0/dist/leaflet.js&quot;&gt;&lt;/script&gt;\n",
              "    &lt;script src=&quot;https://code.jquery.com/jquery-1.12.4.min.js&quot;&gt;&lt;/script&gt;\n",
              "    &lt;script src=&quot;https://maxcdn.bootstrapcdn.com/bootstrap/3.2.0/js/bootstrap.min.js&quot;&gt;&lt;/script&gt;\n",
              "    &lt;script src=&quot;https://cdnjs.cloudflare.com/ajax/libs/Leaflet.awesome-markers/2.0.2/leaflet.awesome-markers.js&quot;&gt;&lt;/script&gt;\n",
              "    &lt;link rel=&quot;stylesheet&quot; href=&quot;https://cdn.jsdelivr.net/npm/leaflet@1.6.0/dist/leaflet.css&quot;/&gt;\n",
              "    &lt;link rel=&quot;stylesheet&quot; href=&quot;https://maxcdn.bootstrapcdn.com/bootstrap/3.2.0/css/bootstrap.min.css&quot;/&gt;\n",
              "    &lt;link rel=&quot;stylesheet&quot; href=&quot;https://maxcdn.bootstrapcdn.com/bootstrap/3.2.0/css/bootstrap-theme.min.css&quot;/&gt;\n",
              "    &lt;link rel=&quot;stylesheet&quot; href=&quot;https://maxcdn.bootstrapcdn.com/font-awesome/4.6.3/css/font-awesome.min.css&quot;/&gt;\n",
              "    &lt;link rel=&quot;stylesheet&quot; href=&quot;https://cdnjs.cloudflare.com/ajax/libs/Leaflet.awesome-markers/2.0.2/leaflet.awesome-markers.css&quot;/&gt;\n",
              "    &lt;link rel=&quot;stylesheet&quot; href=&quot;https://cdn.jsdelivr.net/gh/python-visualization/folium/folium/templates/leaflet.awesome.rotate.min.css&quot;/&gt;\n",
              "    \n",
              "            &lt;meta name=&quot;viewport&quot; content=&quot;width=device-width,\n",
              "                initial-scale=1.0, maximum-scale=1.0, user-scalable=no&quot; /&gt;\n",
              "            &lt;style&gt;\n",
              "                #map_9a6bc84cad4e29b09dec494c4646c9a3 {\n",
              "                    position: relative;\n",
              "                    width: 100.0%;\n",
              "                    height: 100.0%;\n",
              "                    left: 0.0%;\n",
              "                    top: 0.0%;\n",
              "                }\n",
              "            &lt;/style&gt;\n",
              "        \n",
              "    &lt;script src=&quot;https://cdn.jsdelivr.net/gh/python-visualization/folium@master/folium/templates/leaflet_heat.min.js&quot;&gt;&lt;/script&gt;\n",
              "&lt;/head&gt;\n",
              "&lt;body&gt;\n",
              "    \n",
              "    \n",
              "            &lt;div class=&quot;folium-map&quot; id=&quot;map_9a6bc84cad4e29b09dec494c4646c9a3&quot; &gt;&lt;/div&gt;\n",
              "        \n",
              "&lt;/body&gt;\n",
              "&lt;script&gt;\n",
              "    \n",
              "    \n",
              "            var map_9a6bc84cad4e29b09dec494c4646c9a3 = L.map(\n",
              "                &quot;map_9a6bc84cad4e29b09dec494c4646c9a3&quot;,\n",
              "                {\n",
              "                    center: [0, 0],\n",
              "                    crs: L.CRS.EPSG3857,\n",
              "                    zoom: 1,\n",
              "                    zoomControl: true,\n",
              "                    preferCanvas: false,\n",
              "                }\n",
              "            );\n",
              "\n",
              "            \n",
              "\n",
              "        \n",
              "    \n",
              "            var tile_layer_16a3874724fbd6dfd65266a70830f0fd = L.tileLayer(\n",
              "                &quot;https://{s}.tile.openstreetmap.org/{z}/{x}/{y}.png&quot;,\n",
              "                {&quot;attribution&quot;: &quot;Data by \\u0026copy; \\u003ca href=\\&quot;http://openstreetmap.org\\&quot;\\u003eOpenStreetMap\\u003c/a\\u003e, under \\u003ca href=\\&quot;http://www.openstreetmap.org/copyright\\&quot;\\u003eODbL\\u003c/a\\u003e.&quot;, &quot;detectRetina&quot;: false, &quot;maxNativeZoom&quot;: 18, &quot;maxZoom&quot;: 18, &quot;minZoom&quot;: 0, &quot;noWrap&quot;: false, &quot;opacity&quot;: 1, &quot;subdomains&quot;: &quot;abc&quot;, &quot;tms&quot;: false}\n",
              "            ).addTo(map_9a6bc84cad4e29b09dec494c4646c9a3);\n",
              "        \n",
              "    \n",
              "            var heat_map_d7873786c3c7e243f222d23e6f5da30f = L.heatLayer(\n",
              "                [[37.951888, -122.509583], [33.488756, -112.264007], [37.292195, -79.906863], [38.55354000000001, -90.26701], [40.27861400000001, -122.492376], [29.966319, -90.110849], [28.370029, -81.380262], [44.96602100000001, -93.247715], [28.347645, -81.231427], [34.258128, -118.192988], [40.704909, -74.15209200000002], [26.35685, -80.11933], [36.041077, -86.78255], [28.538427, -81.375822], [43.167931, -77.634888], [37.309113, -120.50906299999998], [33.839447, -118.263315], [33.901813, -117.46671200000002], [41.92504, -87.67787], [30.389628, -97.647249], [41.0449, -81.43698], [30.301843, -97.715325], [39.863559, -82.841752], [43.155232, -77.639166], [25.904081, -80.329454], [33.980785, -117.706549], [25.769762, -80.330363], [45.343473, -118.237049], [28.421491, -81.392657], [34.172008, -118.469313], [42.4114, -123.14894], [29.72981, -95.42958], [42.42793, -83.18353], [45.50859000000001, -122.77801], [37.73463, -122.19099], [33.680607, -117.327298], [38.800958, -77.525352], [42.071303, -80.037894], [36.903081, -79.389746], [35.220385, -87.262969], [40.046183, -74.174027], [39.537917, -119.785727], [28.494534, -81.395996], [45.566472, -121.102679], [39.30394, -76.89924], [43.10724, -117.0577], [38.38760300000001, -122.68949], [29.794921, -81.365264], [33.778175, -117.867391], [29.577894, -98.595411], [39.025696, -94.233156], [34.885527, -81.74527900000002], [34.135717, -117.374848], [41.210135, -87.289928], [38.582275, -121.462523], [25.767491, -80.368853], [38.49598, -121.458663], [42.34814, -83.10587], [42.419, -82.93413000000002], [32.361616, -86.191381], [34.152190999999995, -118.65583], [25.781258, -80.34243000000002], [25.888268, -80.26191899999998], [35.368793, -118.931969], [42.978278, -85.62518], [37.780329, -121.976694], [25.573154, -80.37232900000002], [33.690251, -117.142313], [36.758069, -76.29782900000002], [43.508934, -71.61809000000002], [33.555486, -117.710011], [25.597694, -80.37882900000002], [38.398751, -81.776486], [42.98087, -78.850356], [29.072275, -81.972613], [33.826206, -118.205369], [35.3525, -119.018611], [32.774279, -97.212583], [34.120457, -117.871404], [39.742301, -111.15176], [34.019182, -118.479976], [30.313871, -81.664649], [37.736153, -77.453192], [34.033589, -118.436242], [37.122479, -121.62839], [33.81094, -118.292489], [44.249593, -93.381074], [33.86247, -117.25978], [32.987812, -87.78632900000002], [44.64563, -93.29619], [40.516649, -78.391542], [34.5795, -117.83578], [33.97891, -118.39208], [43.172353, -76.114407], [27.808429, -82.75376], [29.032619, -81.997163], [43.162225, -83.76808], [28.611605, -81.30944000000002], [30.322265, -81.526684], [41.121178, -73.32037], [32.691142, -96.841338], [34.22299, -84.48344], [39.93558, -75.058417], [33.53888, -84.26599], [35.207453, -80.757924], [43.269063, -88.183143], [41.635254, -72.869385], [38.907924, -77.038489], [33.58235, -111.835], [39.014882, -122.889331], [30.084522, -95.436891], [34.065372, -81.116321], [33.651163000000004, -117.862049], [32.165890999999995, -110.82607], [25.641617, -80.33507900000002], [38.672366, -121.356586], [33.953293, -117.65052], [38.633947, -121.269217], [40.983223, -75.140909], [39.725823, -122.21106], [41.16633, -73.20849], [33.916717, -84.342199], [39.756227, -86.19284], [43.096076, -75.27424], [30.18181, -97.77623], [35.20444000000001, -80.81848000000002], [44.301349, -117.227164], [37.630181, -122.434847], [27.449294, -82.575402], [37.921746, -122.343074], [40.234111, -74.882758], [38.47571, -121.420025], [45.092107, -122.906633], [40.78954, -111.91495], [40.95768, -74.59495], [28.346829, -81.633218], [38.28903, -122.036237], [32.808781, -80.006294], [33.309778, -111.823501], [25.899033, -80.19514699999998], [40.01303, -75.72763], [25.846972, -80.21169300000003], [34.880187, -82.363881], [29.937511, -90.127258], [34.164346, -118.225011], [43.618871, -116.31426299999998], [32.87805, -96.89795], [30.207095, -97.757276], [40.056385, -76.305734], [45.81892, -119.26421], [33.928033, -118.29707], [28.548378000000003, -81.413837], [35.405942, -119.047626], [34.136604, -117.46388799999998], [32.806043, -97.210927], [39.883514, -75.103708], [28.192211, -82.337294], [45.713454, -110.41175], [25.460649, -80.477272], [32.662197, -96.861052], [33.084369, -117.185144], [37.620752, -122.076832], [34.134801, -79.841565], [39.955486, -75.335883], [39.198907, -76.700502], [34.136720000000004, -117.547799], [39.015234, -77.122782], [29.99682, -90.13628], [34.49217, -118.28369], [40.52866, -74.33744], [32.662336, -97.245973], [30.421821, -91.08004], [34.236045000000004, -117.659889], [33.87275, -84.01429], [39.28693, -84.42917], [37.84895, -122.30005], [34.07887, -118.21998], [38.797755, -77.57575899999998], [38.05118, -122.22947], [45.076274, -93.868882], [34.092569, -118.307611], [38.60886, -121.42914], [44.894102, -88.173086], [30.178281, -81.514337], [46.655714, -96.831117], [38.631553, -90.354424], [38.47064, -90.43203], [33.7745, -118.06948], [37.691121, -122.102625], [44.930402, -123.292519], [25.629796, -80.360125], [28.597576, -81.297676], [40.006445, -75.787607], [27.754541, -82.76405600000002], [42.02855, -91.67885], [43.19199, -77.59992], [33.903487, -117.881114], [25.809148, -80.238846], [33.939671999999995, -98.516892], [39.458199, -121.467293], [36.800483, -121.78333899999998], [34.436832, -113.258833], [28.55328, -81.34472], [38.276206, -119.289175], [30.398431, -83.358405], [33.921890000000005, -118.28151], [47.59234, -122.32597], [34.031668, -118.422427], [28.608732, -81.72694200000002], [35.500816, -93.691406], [35.0825, -89.94808], [42.513538, -82.918356], [39.93188, -79.049774], [37.532097, -77.360905], [32.778502, -96.916913], [41.21406, -95.95199], [32.68561, -117.09039], [40.346732, -121.865492], [33.740447, -84.23039], [29.739145, -95.418826], [45.626642, -121.521604], [38.018263, -122.266287], [35.659463, -120.470157], [25.699801, -80.41717], [26.098376, -80.247606], [45.36492, -93.95801], [34.156011, -118.257962], [33.996067, -117.889763], [43.12828, -75.547428], [34.030566, -117.642577], [40.740104, -73.789726], [35.44745, -79.13051999999998], [33.855905, -118.007165], [25.881129, -80.209057], [40.058849, -75.379648], [41.52551, -81.58708], [30.457992, -91.168674], [42.385605, -83.433725], [40.084232, -74.968316], [46.18296, -123.86106], [34.088093, -117.302032], [25.896576, -80.261993], [38.54516, -121.72821], [30.241, -97.736773], [27.960476, -82.750275], [34.043541, -118.443851], [46.608989, -93.494768], [25.747361, -80.348587], [26.45726, -80.08934], [37.695673, -122.114913], [47.257372, -122.32985], [28.191068, -82.4623], [30.2643, -97.7351], [33.93921, -117.1369], [33.83948, -84.48706999999997], [39.11277000000001, -121.634729], [38.555806, -109.53838], [32.725907, -117.170978], [43.159561, -77.64398800000002], [33.982375, -118.281093], [35.721662, -120.697574], [37.578623, -113.178272], [35.556668, -82.620736], [33.88791, -117.463401], [25.877077, -80.323557], [46.434785, -122.889329], [33.942294, -118.300277], [40.00651, -76.61289000000002], [41.191338, -74.181565], [41.029007, -122.397146], [40.14102800000001, -75.11654], [29.765647, -95.455761], [28.505938, -81.396974], [33.76977, -118.28061], [27.791916, -82.336061], [42.802894, -92.336971], [44.967362, -93.288129], [39.018973, -76.930559], [36.795532, -121.656728], [43.748513, -116.713503], [29.848048, -95.287706], [42.404895, -83.14615], [29.674241, -95.572068], [34.001690999999994, -117.836454], [33.965127, -118.354581], [32.789784999999995, -97.212293], [34.128626000000004, -117.254545], [29.59985, -95.267042], [37.151544, -93.295768], [45.669099, -120.834701], [47.463827, -122.245823], [37.639428, -118.912314], [41.261848, -73.06424200000002], [37.645798, -77.575414], [36.202731, -121.126246], [39.040411, -86.71579200000002], [38.920966, -77.396911], [40.213361, -74.57164399999998], [38.196254, -78.99555], [28.346746000000003, -81.649149], [34.07173, -118.10225], [28.190917, -82.39655], [30.366994, -91.63221], [41.385987, -72.865848], [42.36872, -88.16941], [32.72043, -96.82466], [38.868391, -77.18204200000002], [42.38827, -83.21779000000002], [38.95459, -76.744126], [37.7907, -122.40722], [36.808237, -119.601258], [37.82453, -122.30412], [38.961018, -77.056626], [35.38751, -118.957358], [25.746568, -80.370632], [42.339658, -88.00457], [32.663103, -97.288001], [33.876672, -118.10832], [37.808253, -122.366974], [38.4991, -122.7605], [34.154720000000005, -118.23961], [34.272461, -118.355765], [39.647914, -75.702299], [40.831729, -74.02239200000002], [33.992147, -81.183358], [25.777828, -80.19968399999998], [34.17493, -118.39248], [34.349986, -118.504275], [25.823117, -80.206385], [40.43808, -80.01274000000002], [29.94965, -90.08464], [42.88809000000001, -78.76771], [35.84027800000001, -80.294708], [30.320817, -81.709066], [35.20104600000001, -80.762284], [41.79816, -88.28674000000002], [38.379718, -121.242145], [32.8857, -96.700711], [42.769871, -85.67135400000002], [33.181253000000005, -117.330454], [37.991806, -121.76601200000002], [45.066288, -93.197178], [42.732499, -73.849827], [41.084071, -73.66527099999998], [28.421491, -81.392287], [33.989054, -117.349574], [40.70971, -112.24922], [29.71491, -95.26631], [45.185603, -122.845217], [34.331102, -118.506859], [28.05432, -82.34888000000002], [40.30095, -80.16651999999998], [25.610663, -80.34480400000002], [40.753023, -111.614672], [30.433943, -91.116561], [40.724269, -111.924194], [37.70663, -121.92668], [38.92382, -75.95723000000002], [27.894754, -82.72901800000002], [33.931907, -118.291908], [44.04568, -122.93087], [33.753878, -84.464552], [30.449203000000004, -86.624526], [39.014963, -94.69302], [42.97917, -77.23966899999998], [39.16995, -121.58993], [43.67044, -93.72845], [34.383119, -117.370959], [25.688195, -80.33145], [35.09725, -81.67199000000002], [35.38506599999999, -118.979972], [25.807445, -80.290992], [40.76477, -111.96131], [32.05977, -81.11001999999998], [34.00571, -118.41349], [45.00748, -93.40082], [42.92005, -85.76009], [32.580847, -80.933269], [38.907943, -77.007521], [28.001472, -82.505237], [25.945587, -80.189771], [39.095967, -94.581108], [39.045635, -94.499899], [32.22889, -110.858], [32.436405, -93.714648], [34.134259, -117.35318], [34.392655, -118.955221], [40.819755, -77.835978], [29.77716, -95.5628], [35.800806, -78.514813], [25.73032000000001, -80.383129], [40.73706, -73.93108000000002], [35.75375800000001, -78.686089], [33.877089, -118.137028], [28.120531, -80.708809], [25.728437, -80.415559], [34.029, -118.004661], [33.200404, -117.127323], [40.851513, -74.01516], [34.070181, -117.962412], [38.810086, -77.48990500000002], [40.88329, -81.43184000000002], [43.979139, -91.952532], [34.602728000000006, -82.159349], [40.68669000000001, -73.59425999999998], [32.41892, -90.14587], [37.50758, -120.04442], [41.902379, -71.35670400000002], [38.571288, -121.411101], [35.93605, -78.858609], [32.889986, -96.708021], [32.347887, -96.624069], [32.74077, -97.345916], [34.052331, -118.259296], [37.74063, -122.40793], [30.384069, -87.278008], [30.206452, -90.943267], [34.468496, -92.207157], [44.635649, -93.72494], [38.798605, -77.560428], [33.012484, -79.81177199999998], [37.168489, -93.36399], [32.6494, -97.32138], [28.80503, -82.334342], [47.236162, -122.42306200000002], [41.429735, -72.638275], [40.71884, -74.23592], [28.346769, -81.638529], [27.96794, -82.729614], [40.615827, -78.711792], [47.70026, -122.17948], [32.424153999999994, -81.01019000000002], [34.141997, -117.32234], [39.621505, -75.68678], [34.021203, -81.448341], [29.777027, -95.412254], [35.887856, -120.047093], [29.682729, -95.275408], [34.09454, -118.20611], [46.70445, -112.020957], [42.37685, -83.03948000000003], [37.814501, -122.300287], [25.80919, -80.206091], [38.947207, -121.102271], [32.664252000000005, -97.242618], [38.41956, -122.7157], [32.706094, -117.147721], [34.03568, -118.09821], [32.413157, -80.648925], [40.02141, -75.94066], [40.262626, -75.31981800000001], [29.743347, -95.457764], [41.16797, -73.20111], [44.920831, -122.990173], [29.92667, -90.09854], [38.856929, -76.85263], [41.46289, -81.69369], [25.66606, -80.33489], [37.124099, -93.440113], [40.60782, -74.26065], [34.055503, -118.255044], [34.018089, -117.474474], [34.029264000000005, -118.20008500000002], [37.197342, -76.56727099999998], [47.71928, -122.29516], [34.03662, -118.270128], [39.635793, -84.225306], [40.9015, -74.13032], [28.354049, -81.52543100000003], [41.76624, -87.62553], [34.010549, -118.080829], [38.57064, -121.5087], [39.015201, -77.096023], [43.034831, -77.816687], [47.992816, -113.928537], [30.401123, -84.302864], [34.024035999999995, -117.770929], [36.635704, -76.209221], [39.7719, -104.82033], [39.578944, -111.93179], [39.33329000000001, -77.6962], [31.323312, -89.364825], [28.223563, -82.364289], [25.702145, -80.336591], [41.08357700000001, -73.717585], [25.886455, -80.21079499999998], [42.409961, -87.82478499999998], [36.140588, -86.723102], [36.928322, -121.778288], [38.242732, -77.501775], [41.433509, -73.406814], [33.111422999999995, -84.396355], [32.23595, -110.963343], [43.104079, -75.23973000000002], [28.332818, -81.491589], [47.081319, -123.023844], [29.932703000000004, -90.004806], [28.316177000000003, -81.37031400000002], [35.145374, -85.328224], [34.410235, -117.399176], [40.709553, -74.558164], [25.890318, -80.163545], [44.257167, -121.094344], [34.198515, -118.396518], [38.207625, -122.158095], [37.80069, -122.42947], [44.97055, -93.33591], [34.127088, -118.474797], [40.162367, -75.470454], [36.961022, -76.26695], [38.57526, -121.57196], [34.037033, -118.16186299999998], [34.124377, -81.23656], [46.29419, -94.27187], [25.954181, -80.245832], [33.48049, -112.155574], [39.26840900000001, -76.56008299999998], [36.343577, -117.36459], [27.956222, -82.355811], [37.72322800000001, -77.142911], [37.7794, -79.923488], [36.57693, -119.629905], [25.750165, -80.20900999999998], [32.736036, -97.637699], [44.780434, -123.039911], [42.359167, -87.933697], [33.386477, -111.56337], [47.88325800000001, -122.157361], [36.661111, -121.816111], [30.195161, -82.5033], [25.922643, -80.211522], [34.018081, -117.534173], [32.85266, -117.1814], [36.898424, -77.798333], [29.970042, -90.04069100000002], [25.941223, -80.205048], [38.87266, -77.37605], [34.792859, -82.65203299999997], [41.83242, -71.41703000000003], [40.029641, -75.68358], [29.156098, -82.134349], [27.771495, -82.65803199999998], [25.87952, -80.24284899999998], [25.910021, -80.324702], [44.089171, -117.025126], [33.89775, -117.47803], [39.343499, -77.374604], [42.132411, -122.633351], [39.968569, -76.730864], [42.545725, -79.114683], [30.393161, -91.160335], [42.23962, -88.00036999999998], [42.36083, -83.2165], [42.383123, -88.06294799999998], [33.365595, -117.246646], [33.956433000000004, -117.306314], [26.683239, -80.163604], [35.875598, -78.721603], [25.748079, -80.30580400000002], [38.14918, -85.76092], [29.939769, -90.078495], [34.030698, -117.59831], [34.091949, -118.25866299999998], [40.55238, -74.54294], [34.067440000000005, -117.579993], [32.998090000000005, -117.083197], [25.871186, -80.2427], [41.85757, -87.64439], [38.109804, -122.22973], [34.020235, -118.18396], [32.77458, -117.067903], [26.52802100000001, -81.870594], [42.59956, -73.78480400000002], [25.686109, -80.365882], [27.93765800000001, -82.288152], [35.23922, -80.73796], [36.141569, -86.740561], [32.221656, -110.920367], [28.042251, -82.738417], [44.948747, -92.896931], [34.138467, -117.242715], [32.85842, -96.65275], [45.3469, -122.97611], [35.759392, -78.731771], [40.292146, -79.340752], [34.340740000000004, -110.050853], [33.84661, -117.8315], [32.67618, -97.0345], [28.481315, -81.417435], [39.40752, -76.66186], [33.677088, -117.662387], [35.157987, -85.188215], [39.67074, -86.09673599999998], [38.88575, -104.71302], [33.310111, -117.203876], [37.74273, -121.5368], [39.908705, -75.36229399999998], [30.476254, -84.236051], [39.30118, -76.71315], [38.220405, -122.257507], [29.785109, -95.559073], [36.845671, -76.17551], [41.91299, -87.66664], [33.95929, -118.25403], [28.355792, -80.771277], [33.623487, -84.488171], [34.067840999999994, -117.403205], [39.20572, -76.61872], [33.98896, -118.34093500000002], [34.010831, -118.280763], [34.1611, -118.469614], [40.391349, -122.280808], [33.7745, -118.06948], [37.8917, -121.112142], [40.387684, -75.753146], [33.637908, -111.92394], [35.848299, -78.580238], [38.57493, -121.55185], [34.038429, -118.273828], [30.248366, -81.51488], [33.907765000000005, -118.181656], [33.661175, -84.497555], [38.732561, -120.783569], [37.63522, -77.54661], [38.801552, -77.08929599999998], [40.18893, -121.53328], [42.823721, -73.732837], [28.39708, -81.40450799999998], [42.37737, -87.90456999999998], [33.920069, -118.0239], [37.746051, -121.132174], [41.76943, -72.661539], [43.89202, -92.66756], [39.97426, -76.68008], [40.713604, -74.14066600000002], [28.369284000000004, -81.36089399999999], [43.663009, -116.4771], [33.88909, -118.28536], [36.06063, -95.97589], [36.064392, -79.43423100000003], [41.200555, -73.70659], [42.44947, -122.11097], [42.218034, -87.845401], [28.4337, -82.485469], [29.48287, -98.59984], [29.732665, -95.456817], [34.281751, -118.695271], [32.910874, -96.893086], [34.47159, -89.00909], [42.911278, -73.695763], [40.43435, -74.43316], [34.935207, -120.546425], [38.942072, -121.097195], [40.771025, -112.100812], [28.038052, -82.45500799999998], [45.075085, -123.576546], [28.460829, -81.4997], [35.07723, -85.3215], [28.06931, -82.4594], [41.71363, -87.65149], [41.770781, -77.375518], [40.278657, -74.69163499999998], [36.20702, -95.9464], [32.724952, -97.513342], [45.010329, -93.16597], [38.234882, -120.370795], [39.80479, -86.28893000000002], [36.622817, -79.36475], [32.601875, -97.150801], [37.083706, -121.101661], [36.777838, -80.822328], [42.281416, -84.301071], [32.609572, -96.822863], [25.867447, -80.326201], [37.96085, -122.05325], [39.68874, -104.97125], [32.347485, -95.267345], [28.325983, -81.334416], [35.016948, -80.75304399999997], [33.742779, -84.40320600000003], [38.20842, -85.66895], [38.021432, -121.958606], [41.207548, -73.096521], [25.671853, -80.41650899999998], [39.120888, -120.947213], [38.803852, -90.897394], [35.224511, -78.657882], [34.012163, -118.418286], [39.09309, -94.59074], [34.1333, -118.352388], [37.959641, -121.240986], [34.248501, -80.67643199999998], [39.840757, -75.12076], [33.8286, -118.28725], [42.24048, -87.94459], [37.357388, -76.736358], [37.71916, -122.44826], [40.69295200000001, -74.110416], [32.74492, -96.72657], [28.01722800000001, -82.26544200000002], [45.796524, -123.965283], [33.79998, -117.87813], [34.234237, -79.272193], [38.10928, -78.99285], [43.01934, -83.60240999999998], [28.227225, -81.656553], [33.69905, -84.26988], [38.798786, -77.018955], [35.996564, -83.287235], [36.05128, -119.14558999999998], [34.00016, -117.35262], [44.97125, -93.37049], [40.321305, -111.648768], [40.1959, -74.80797], [41.76085, -122.621758], [33.21062, -84.06335], [39.620945, -119.890833], [30.319886, -97.696772], [25.842831, -80.225317], [36.757418, -119.844285], [36.860681, -121.620542], [26.027447, -80.165911], [39.06266, -76.64008000000003], [33.68343, -117.85897], [44.99921, -93.28299], [28.491178, -81.430194], [43.59001, -119.9817], [42.492792, -87.88661], [30.23711, -93.26419], [38.70225, -121.31498], [40.59467100000001, -77.578293], [33.970546, -118.375232], [33.88001, -117.605738], [39.05652, -76.95449], [34.760967, -86.672891], [42.993568, -76.746057], [38.836852, -77.090662], [43.749672, -118.489297], [34.0048, -84.5646], [36.05148, -86.66975699999998], [38.961471, -94.542205], [45.40306, -122.50063], [37.540181, -121.267544], [40.374552, -78.4372], [25.767491, -80.368853], [32.820231, -117.168792], [29.625639000000003, -95.605909], [33.516758, -112.091201], [30.43541500000001, -91.024292], [41.67206, -83.87889], [35.807522, -78.69394100000002], [40.35344, -112.06722], [29.825544, -95.387409], [39.214356, -121.541477], [41.103513, -112.004179], [34.14112, -118.17972], [38.7123, -112.13661], [41.171211, -79.10090799999998], [34.096195, -117.302046], [41.23324, -73.06869], [33.826291999999995, -118.212643], [37.149077, -121.648946], [34.029243, -117.129686], [30.396552000000003, -91.01771], [40.784879, -73.93016999999998], [34.12112800000001, -117.831666], [25.642714, -80.334553], [38.99014, -84.64395], [43.13399999999999, -88.05526], [36.772943, -87.354742], [37.587724, -77.753873], [28.485487, -81.441745], [39.811484, -84.226485], [40.281378, -80.16224100000002], [43.076238, -83.659207], [25.86018, -80.244341], [39.479567, -121.52356], [27.974656, -82.77533000000003], [34.150494, -117.478616], [38.299883, -120.687293], [34.019323, -117.339557], [34.843912, -117.087928], [33.07934, -80.308021], [44.541822, -95.045528], [34.13556, -117.98751], [34.156659999999995, -118.413773], [41.1194, -73.37941], [35.22452, -80.85871999999998], [28.396006, -81.419623], [41.254552, -122.26588999999998], [36.950057, -121.552809], [39.214717, -120.776951], [38.852452, -77.400687], [34.083459999999995, -117.69389], [33.457608, -112.328786], [33.907324, -117.881677], [37.645801, -121.049154], [35.101619, -80.988201], [37.317021, -121.931206], [39.83628, -104.92471], [39.87880300000001, -75.102979], [33.217240000000004, -117.22623], [42.129326, -123.667709], [33.237001, -87.560957], [35.30178400000001, -81.854915], [34.062744, -118.24872], [34.00497, -117.395042], [41.059867, -111.589347], [33.91879, -118.371421], [32.792497999999995, -96.610575], [33.963225, -117.323619], [45.51729, -122.667921], [38.948817, -76.860031], [35.595155, -84.519914], [33.971647, -117.549022], [25.874722, -80.17314499999998], [26.098934, -80.253213], [38.870218, -77.04605600000002], [33.056507, -96.789271], [30.853922, -84.957449], [40.623001, -111.756096], [40.2151, -76.094044], [44.543138, -93.80851], [37.125792, -76.51015799999998], [39.305705, -120.646286], [42.783797, -117.773448], [45.695925, -111.041704], [27.965903000000004, -82.79589200000002], [34.118416, -117.973226], [42.576216, -114.084166], [37.085992, -80.645924], [33.916749, -117.438709], [33.94035, -118.04644], [35.22093, -80.8512], [25.856028, -80.18489], [41.974816, -87.868842], [44.95233, -93.03465], [25.73521400000001, -80.319257], [33.870196, -117.744925], [30.241415000000003, -82.63428], [38.797014, -120.145303], [38.643904, -77.443152], [41.733432, -72.663732], [35.867466, -78.571525], [29.810055, -95.52618], [47.79510300000001, -122.143416], [34.060914000000004, -118.247447], [40.1309, -75.44842], [37.016531, -120.202348], [44.69763, -93.28817], [43.59331, -116.428736], [32.908414, -80.026826], [44.562081, -123.061648], [40.810614, -78.05058299999997], [45.05953, -93.14716], [29.40822, -98.509428], [43.099333, -83.70016600000002], [30.226757, -97.769955], [35.46018, -97.59738], [40.263787, -111.668697], [33.764754, -117.920216], [38.040236, -122.537123], [39.67478, -104.86596000000002], [42.58715, -123.3877], [41.058837, -73.51195600000001], [40.348294, -104.98112], [44.766535, -93.577787], [37.80091, -122.22882], [33.756448, -117.189413], [28.006777000000003, -82.327384], [41.723568, -91.642236], [39.224891, -94.650597], [36.845983, -76.189083], [34.048815999999995, -118.166718], [27.807992, -82.75214799999998], [38.41058, -122.71616000000002], [34.767435, -82.13726899999997], [41.03823, -73.81546], [39.920712, -75.18916], [42.31732, -83.44283], [48.022407, -122.18586100000002], [25.749454, -80.335813], [40.72009, -111.90364], [30.443394, -86.867648], [43.085617, -77.685552], [32.482494, -93.748131], [40.7824, -73.43355], [42.411001, -87.82481999999996], [34.598942, -120.192816], [36.471551, -82.54091600000002], [35.831607, -78.339714], [44.829382, -93.234931], [40.88049, -111.89659], [36.733597, -119.498883], [33.826071, -117.925958], [35.345797, -118.99592], [32.740663, -97.225002], [44.88705, -93.33366], [34.030437, -117.605073], [40.677722, -111.800297], [38.58962, -121.446197], [40.940541, -74.071487], [33.876036, -118.15998799999998], [34.235454, -80.86936999999998], [25.808231, -80.30714499999998], [39.872802, -75.078408], [38.567962, -122.829024], [37.640717, -77.560728], [25.782213, -80.229312], [33.566139, -86.823459], [26.576855, -81.65629], [44.47711, -93.29212], [34.863776, -118.208378], [38.662688, -121.225654], [32.843104, -117.086109], [38.570339, -75.56254799999998], [39.795623, -74.235277], [33.36951, -111.64536], [33.757797, -117.33258], [43.03980900000001, -76.14234499999998], [40.104064, -76.424699], [41.0932, -73.93115999999998], [37.967192, -120.415977], [25.779107, -80.378648], [42.252506, -85.540853], [34.152992, -118.286486], [47.5903, -122.28289], [37.993994, -122.04218600000002], [36.985183, -122.023333], [44.290081, -121.16711], [33.511327, -86.820812], [32.55162, -86.17783], [39.081513, -77.50253000000002], [34.421399, -117.384664], [30.735353000000003, -88.11546899999998], [33.77448, -118.044017], [28.612801, -81.432547], [33.94536, -118.36823], [34.064728, -118.002254], [38.394618, -82.53230699999997], [33.917951, -84.338199], [34.91268, -82.322755], [39.285018, -84.56379799999998], [35.377382, -82.478474], [36.010164, -80.141482], [40.812772, -73.929415], [26.061896, -80.16356999999998], [25.928351, -80.293413], [37.476251, -121.932551], [30.443637, -91.175649], [29.651259000000003, -95.250373], [25.686246, -80.416687], [46.460813, -95.188515], [30.732238, -87.38309100000002], [25.803481, -80.264379], [32.59145, -93.3332], [42.195428, -73.919759], [41.985764, -120.29807], [39.000234000000006, -77.080146], [37.718285, -77.44836600000002], [37.445062, -122.119129], [32.81372, -96.79028], [43.795002, -117.055516], [40.117883, -75.351178], [40.759373, -73.996964], [25.809724, -80.330038], [34.127759999999995, -117.254547], [35.155829, -80.796131], [33.884671999999995, -117.521639], [45.254727, -123.032873], [35.644493, -78.833282], [36.486659, -86.310952], [44.030917, -92.488392], [40.534836, -122.342875], [34.190135, -117.360215], [34.214828000000004, -81.753877], [41.83459600000001, -72.66558], [44.779212, -93.493719], [47.660139, -122.698477], [42.946468, -78.908904], [39.87157, -75.03339], [46.26612, -106.670047], [37.701712, -121.889565], [34.327696, -82.28997199999998], [40.070297, -75.44491500000002], [34.024373, -117.762089], [34.11903, -118.15305], [34.546519, -92.628489], [39.056814, -122.07893], [33.54958, -112.11248], [30.488277000000004, -91.267563], [33.685464, -79.333915], [33.063066, -96.691477], [38.228549, -121.951771], [25.845332, -80.322118], [40.926807, -73.76969100000002], [44.262765, -121.177122], [35.207402, -80.867988], [39.678821, -105.925059], [37.344511, -120.613328], [40.323225, -75.928652], [35.34772, -80.86945], [40.73926, -74.0633], [33.94815, -80.96536], [44.183052, -93.256598], [33.64658, -117.7426], [45.428962, -118.358032], [40.532113, -111.891331], [27.486146999999995, -82.45621], [33.466255, -79.635937], [25.583565, -80.389877], [35.156561, -90.132898], [34.071971999999995, -117.396427], [29.190469, -82.184826], [39.68135, -75.6623], [38.545131, -121.473791], [37.980406, -121.265551], [42.78899000000001, -74.01973100000002], [41.769747, -72.67259200000002], [29.872893, -95.409732], [45.663332, -110.965682], [34.066467, -117.296527], [43.596254, -85.13298], [33.52206, -80.79342], [33.89815, -84.26787], [30.534088, -87.313956], [37.679787, -113.061746], [34.173157, -118.535976], [45.687663, -92.990352], [44.78229, -117.81206], [44.070664, -93.251925], [33.98617, -118.397757], [28.15759000000001, -80.67194], [39.130947, -94.567912], [38.429758, -121.487957], [47.612482, -122.32803], [38.737319, -77.192421], [33.925059999999995, -118.20989], [36.68564600000001, -121.649807], [33.877233000000004, -118.141924], [33.52401, -112.16956], [43.79694, -121.442], [28.48275, -81.44471999999998], [38.772477, -78.621222], [33.946451, -118.226413], [29.841451, -95.489365], [34.11943, -117.770293], [41.272458, -76.451803], [40.63171, -74.21167], [36.714565, -79.90914599999998], [27.950637, -82.517433], [32.79233, -96.63102], [32.898211, -96.718638], [42.235554, -87.9013], [43.55889000000001, -119.084483], [44.009837, -124.099096], [36.136865, -86.79575], [33.89502, -84.25341999999998], [37.258397, -121.954012], [41.769437, -72.663071], [37.316316, -121.96376], [41.30758, -75.75929000000002], [45.049105, -117.938371], [34.04821, -118.26597], [27.467106, -80.421479], [32.118635999999995, -111.04054], [35.78862700000001, -78.74288100000003], [27.046676, -82.158411], [41.404906, -114.754976], [25.911472, -80.329986], [44.720209, -123.05457], [36.259159, -80.722356], [35.004387, -82.175794], [25.886365, -80.164575], [38.424989, -77.421226], [30.530078000000003, -87.12959000000002], [42.90931, -85.67683000000002], [30.421594, -97.665161], [38.236801, -122.263334], [28.451637, -81.470822], [36.163541, -86.777264], [40.71185, -111.88827], [34.881812, -82.350585], [33.974723, -118.234305], [40.001937, -76.61669599999998], [39.414297, -76.410311], [25.898691, -80.182777], [33.915659999999995, -118.18886], [33.12896, -117.114375], [47.61958, -122.32865], [36.069782, -86.897363], [34.129748, -80.871934], [30.40181, -97.67917], [44.862, -93.51128], [40.749889, -73.77414300000002], [40.898977, -74.63003], [44.708035, -121.167207], [37.87733400000001, -122.542091], [36.013475, -83.85911899999998], [34.082502000000005, -117.2991], [35.055832, -84.733452], [33.603929, -117.689828], [34.066814, -117.803232], [26.41652, -80.09020699999998], [33.34921, -86.86829], [34.030998, -118.26073], [41.073429, -111.91096], [28.346897, -81.65424499999997], [33.496233000000004, -112.043923], [36.90815900000001, -119.24221], [40.11775, -75.357555], [36.123163, -86.751263], [32.935719, -80.043145], [42.717866, -84.504662], [35.52541, -97.53504], [28.486795, -81.419402], [42.844693, -71.307924], [33.658665, -117.74596], [34.07489, -117.29564], [34.396649, -118.074515], [25.686276, -80.38471700000002], [35.827137, -78.625206], [38.356325, -120.212381], [35.52160999999999, -83.031308], [35.22333, -80.85101999999998], [28.400459, -81.244401], [40.812504, -73.95551400000002], [32.29804, -86.30712], [38.368719, -121.475619], [28.30597, -81.57122], [33.374476, -112.20288700000002], [44.093917, -123.104027], [45.720385, -117.27163], [28.553005, -81.382695], [37.427075, -121.911592], [25.926024, -80.156413], [30.256315, -81.442583], [29.175381, -81.871606], [33.282555, -111.812678], [42.34584, -122.87502], [42.4337, -123.17312], [33.23491, -117.40615], [33.916546999999994, -84.34270500000002], [33.836785, -118.26103], [40.073983, -80.710552], [26.242807, -80.136424], [40.117696, -75.423686], [40.116459000000006, -79.34244], [26.433015, -81.435482], [32.444720000000004, -93.729804], [34.0464, -118.178032], [30.31442, -91.8364], [34.13477, -117.62019], [39.538958, -119.787858], [42.43839000000001, -123.29442], [44.88409, -93.01008], [45.562862, -122.590692], [41.533808, -90.6759], [35.878955, -87.799054], [44.87483, -93.05261], [33.614681, -117.707783], [30.410249, -91.036964], [33.5531, -112.117], [28.257628000000004, -81.49458100000003], [25.898334, -80.20992700000002], [40.816034, -74.028391], [38.5932, -121.44485], [33.476209999999995, -117.138923], [36.479574, -121.731924], [47.286819, -118.038536], [42.446597, -88.090588], [39.233942, -83.907549], [45.93336, -93.12446], [35.163395, -80.925005], [28.493402000000003, -81.433647], [34.152279, -118.093781], [25.760891, -80.398105], [32.779313, -117.066378], [47.5348, -122.19608], [25.81711, -80.20644], [45.25956, -122.76939], [34.021568, -118.36899], [44.887057, -93.329047], [36.728434, -119.583095], [34.837635, -82.311104], [36.792363, -121.666918], [25.762543, -80.317644], [34.023244, -118.159549], [38.549319, -112.38431], [39.91368, -83.01722], [38.559777, -121.476666], [44.86249, -93.21476], [39.93268, -74.96864000000002], [47.149146, -96.973475], [33.689012, -117.919357], [42.42827, -121.300679], [33.047808, -117.07279], [36.173273, -80.276558], [32.165785, -111.124491], [26.7114, -81.809016], [39.7888, -75.04926], [37.576081, -77.46286500000002], [42.43251, -123.08332], [44.196367, -121.398589], [44.051651, -92.492642], [34.93708400000001, -81.98589799999998], [33.978969, -118.078891], [41.87559, -87.66181999999998], [45.347857, -122.652878], [33.766108, -117.968059], [41.574545, -87.51629], [33.813534000000004, -118.167418], [32.94062, -80.050671], [41.77726, -87.63006999999998], [40.85136, -81.27806], [35.396344, -79.10979499999998], [37.429825, -122.103146], [39.411617, -74.55475600000003], [36.68657, -119.75199], [26.65062, -80.06841], [32.725120000000004, -117.07448], [33.460894, -112.08548799999998], [34.19455, -82.190648], [34.066467, -117.296527], [39.20302, -84.54768], [35.178912, -80.78713], [29.628806, -95.425323], [41.968389, -87.78801], [38.915895, -121.041018], [33.988941, -117.932312], [42.40009000000001, -83.10521], [42.47244, -83.11067], [35.380047, -119.016422], [38.96169, -77.15359699999998], [34.021858, -118.156845], [34.007294, -118.281235], [29.761067, -95.383531], [43.18645, -77.6138], [38.411448, -122.381494], [41.243759, -73.150867], [45.53509, -122.66572], [37.425467, -122.098573], [34.102896, -118.196301], [38.447632, -121.419944], [38.360258, -78.924787], [28.605899, -81.399043], [25.782687, -80.32697399999998], [28.11669, -80.70585], [40.39201, -104.592898], [33.732585, -117.989329], [37.419296, -121.944117], [33.76006, -117.86196], [27.93863, -82.32160999999998], [34.06434, -118.25069], [35.64132, -78.565426], [33.032883, -117.077652], [41.9789, -112.19143], [28.584605, -81.451525], [43.614878, -116.209448], [32.678251, -97.1149], [29.828582, -81.380517], [33.877363, -118.022493], [38.82477100000001, -109.781581], [29.806167, -95.445573], [38.678897, -77.23186700000002], [45.056097, -93.131602], [37.533393, -77.429902], [33.981884, -118.074829], [40.427723, -74.56110799999998], [26.08325, -80.17908], [25.815698, -80.386601], [34.006477000000004, -117.964406], [34.06644, -117.80082], [39.924261, -83.01201], [35.79619, -78.65513], [40.043739, -75.0029], [33.01446, -80.138155], [33.172799, -86.77769], [27.7482, -82.67714000000002], [40.687361, -74.273639], [38.57712, -77.317174], [39.881283, -77.186912], [39.073645, -121.533724], [34.068741, -117.497531], [35.1544, -80.79500999999998], [37.89289, -122.12503], [38.53894, -121.51273], [40.54424, -111.92619], [34.168434999999995, -118.588238], [46.428555, -95.322077], [29.54435, -82.49623000000003], [40.765725, -73.68990500000002], [40.75179, -111.47081], [33.876523, -118.067916], [39.00995, -76.69821], [34.20725, -81.065191], [33.781009999999995, -117.489648], [32.925773, -96.810146], [42.562677, -73.678507], [37.370271, -119.626195], [33.9809, -117.369128], [38.952934, -76.908552], [33.465481, -117.689059], [33.43476, -111.88171], [39.749554, -84.20568399999998], [43.172354, -77.58415699999998], [34.067445, -117.580526], [25.704114, -80.334288], [40.66332, -73.80336], [33.961742, -118.282703], [35.799393, -78.724982], [37.572388, -121.888314], [37.147347, -79.23060100000002], [33.830758, -118.277698], [42.926923, -85.587627], [25.939962, -80.19164], [25.6858, -80.399129], [37.385401, -121.976136], [26.470741, -81.793929], [35.89749699999999, -78.875588], [28.338919, -81.409591], [33.647485, -112.233484], [44.809738, -68.792412], [33.918719, -118.046748], [25.940783, -80.30677299999998], [34.026465, -118.27223899999998], [40.805137, -78.393224], [37.878895, -78.02484799999998], [33.846583, -118.214433], [45.6023, -94.47634], [35.541361, -90.162423], [28.657037, -81.224985], [38.625215, -77.286704], [34.22162, -118.41007], [37.99835, -78.341499], [42.35757, -83.23594], [34.835297, -80.811428], [35.075254, -85.248499], [44.78221, -93.28836], [40.434486, -74.487262], [40.797718, -73.919974], [44.952894, -93.095596], [34.08191, -117.71568], [44.966232, -93.218318], [37.992022, -122.073735], [35.9003, -78.62773], [34.02685, -118.429908], [44.60255, -95.665243], [29.73098, -95.40501], [34.221714, -81.414517], [36.884505, -76.223409], [47.85291, -122.25628], [35.895558, -78.86251899999998], [41.505719, -74.07562800000002], [32.83688, -97.03203], [25.924424, -80.31085300000002], [45.107614, -123.329853], [33.768424, -117.867487], [35.275159, -84.968274], [40.325107, -75.3627], [25.688837, -80.365891], [39.78322100000001, -105.000661], [40.019605, -75.144097], [34.024336, -117.740478], [39.270614, -76.65645], [38.82682, -104.82197], [26.323724, -80.11636999999997], [29.182337, -82.18463299999998], [39.60984000000001, -75.64984], [41.94055, -71.02237], [39.36114600000001, -121.240648], [45.14403400000001, -93.267563], [33.58556, -112.26065], [25.68692, -80.416652], [34.064511, -118.010957], [34.01855, -117.47577], [38.577708, -121.506871], [39.93298, -75.143476], [36.338642, -94.182583], [33.638040000000004, -89.79543000000002], [39.264689, -121.37393], [32.2871, -110.9439], [35.91308, -79.70808000000002], [30.417045, -91.113748], [38.96833, -121.10484], [41.049674, -77.312539], [25.88984, -80.32374], [25.963076, -80.15956800000002], [39.647492, -106.607984], [35.348261, -119.039634], [25.845655, -80.251159], [28.523215000000004, -81.309322], [34.218962, -117.397715], [40.72288, -73.82757], [40.829805, -73.199399], [26.324877, -80.116812], [41.004118, -79.319082], [33.853704, -117.963773], [27.981536, -82.294831], [29.40822, -98.509428], [41.561183, -120.26835], [34.889563, -78.986624], [33.46216, -112.0236], [40.430108, -79.880368], [29.942801, -90.112104], [36.075042, -77.813745], [41.51163, -112.01575], [40.780374, -73.602149], [27.892767, -82.348815], [34.071403000000004, -118.090571], [37.721932, -121.529081], [29.986797, -81.462088], [25.750464, -80.208899], [35.614211, -120.674833], [29.909862, -81.409826], [43.662956, -116.359426], [35.31951, -112.888652], [42.265523, -83.248248], [38.508969, -77.37756800000002], [39.652823, -75.71143199999999], [37.781328, -122.238639], [25.714321, -80.417582], [42.72549, -84.50981999999998], [45.409023, -122.499748], [35.462998, -84.652072], [40.202171, -78.14147], [31.855364, -106.424384], [38.172174, -121.711375], [25.900551, -80.248177], [43.622041, -70.354849], [30.417024, -91.097676], [45.351266, -95.162926], [34.024781, -117.734714], [47.39644000000001, -122.23141], [38.694527, -121.36831200000002], [43.376004, -75.693028], [34.798419, -92.025707], [34.020239000000004, -117.814957], [34.170499, -118.103941], [32.294088, -95.301848], [35.913839, -78.55040100000002], [35.09413, -120.614232], [46.554812, -96.313351], [30.341841, -97.967953], [38.574543, -122.518708], [33.491877, -80.92716], [34.06622, -118.2162], [27.447471000000004, -82.52806700000002], [37.311705, -78.420765], [35.34405800000001, -82.443026], [42.158433, -72.82221700000002], [32.23595, -110.963343], [38.431513, -121.399061], [42.363943, -83.7494], [43.386479, -123.343509], [27.447719, -82.562855], [44.19126, -93.99814], [45.514175, -122.565318], [29.704031, -95.568102], [36.23382, -121.17428], [37.29734000000001, -121.94006], [39.647039, -106.321548], [40.530012, -80.072125], [34.556372, -117.969891], [32.825203, -96.629448], [39.41784000000001, -120.198272], [25.896473, -80.269273], [43.11519000000001, -76.14551], [29.18635200000001, -82.187267], [33.84981, -117.87573], [38.289688, -77.46189100000002], [36.21139, -79.68951], [37.018899, -113.49115], [42.61472, -83.99134000000002], [38.187604, -120.002463], [25.94593, -80.16488000000003], [34.052696000000005, -118.449965], [33.87336, -118.21619], [43.99155, -121.33364], [39.90255, -75.15086], [38.6401, -121.27168799999998], [37.503678, -120.875736], [36.259883, -86.713026], [35.662315, -78.794273], [34.631127, -86.870646], [36.126297, -78.078213], [32.920032, -96.769069], [34.049170000000004, -118.2223], [38.979099, -77.130835], [40.022737, -75.65590999999998], [37.172367, -121.991534], [40.21556, -76.07101999999998], [36.149985, -119.0645], [35.412014, -119.054793], [36.62291, -79.60775], [32.767249, -96.768632], [33.99429, -117.88468], [36.650444, -121.814635], [40.253294, -74.08075600000002], [26.002855, -80.167179], [35.843411, -78.681895], [45.882216, -108.312816], [40.73684, -111.90474], [34.172008, -118.469313], [35.77585, -119.2053], [25.880344, -80.35553399999998], [42.37293, -83.08582], [25.949326, -80.148812], [33.85204, -84.36964], [45.497424, -122.635948], [33.844189, -117.87618799999998], [36.606888, -121.647653], [37.388496, -122.157428], [24.715521, -81.078203], [32.697540999999994, -96.576477], [45.54264000000001, -122.6773], [28.724867, -81.599027], [28.568399, -81.28358], [42.27823, -83.78390999999998], [34.019855, -118.182533], [36.27869000000001, -82.74041], [44.770397, -93.277823], [38.283233, -122.29291200000002], [38.84728, -77.768858], [38.245011, -77.52445300000002], [32.978190000000005, -96.774679], [37.822692, -122.3201], [37.027189, -76.332257], [41.044921, -73.566807], [40.843593, -73.927847], [34.012190999999994, -117.344593], [33.38572, -111.924688], [42.220912, -87.898016], [34.25733, -118.47235], [29.629798, -95.521928], [36.166924, -119.974087], [37.36792, -77.41736], [38.933776, -92.946771], [35.354139, -119.064082], [26.537845, -81.87204799999998], [32.331133, -95.292469], [30.16465, -81.743779], [32.865578, -96.782608], [32.79575, -96.6922], [47.65259, -117.411263], [42.06652800000001, -124.304791], [40.253745, -76.82069200000002], [40.117488, -75.068647], [42.666381, -73.730889], [36.972674, -120.074075], [30.28137000000001, -82.04953], [37.75254, -122.40301], [33.931242, -118.394004], [41.07731, -73.71823], [36.774828, -119.817611], [37.929648, -122.387736], [39.95802, -75.16329], [32.205444, -110.840859], [47.05082, -94.3492], [26.905988, -80.139815], [37.364276, -77.34399599999998], [39.701729, -77.310568], [41.194471, -73.195391], [40.335255, -75.939691], [40.009979, -75.064312], [33.002214, -96.85239], [35.468666, -82.55017600000002], [39.05651, -84.54286], [36.17703, -95.85117], [37.097811, -76.489651], [42.904411, -78.901222], [42.782614, -73.90648900000002], [44.254337, -92.791374], [36.068964, -86.680883], [39.445972, -77.392976], [34.473858, -118.455467], [35.63056, -78.56626999999997], [34.336003000000005, -79.515576], [44.9017, -93.27478], [44.47924, -93.33213], [36.241289, -86.764172], [36.044884, -86.66773], [38.856599, -104.72028], [34.272955, -118.043364], [25.934699, -80.151016], [45.01013, -93.16051], [40.634524, -75.276555], [34.664579, -83.041115], [36.978127, -121.556131], [39.4016, -76.56798], [37.505791, -77.426674], [41.294469, -72.789301], [25.808949, -80.33729], [36.78925200000001, -119.78447], [40.75072, -73.75083000000002], [33.217108, -97.136841], [34.07184, -118.09317], [36.840525, -76.096361], [37.134593, -121.635164], [34.759937, -92.262309], [32.916083, -81.379165], [35.393969, -119.044736], [33.808505, -118.081596], [38.657162, -121.383592], [38.67022, -90.59429], [38.848975, -77.077256], [35.306431, -80.85367], [40.973029, -111.89402], [34.087452, -117.650915], [33.955951, -117.380917], [38.99104000000001, -84.64399], [28.552135, -81.395809], [32.329482, -90.161655], [37.960399, -122.51167], [38.252361, -85.502623], [34.006987, -118.06051], [34.155676, -83.642312], [30.415721, -91.069192], [41.296116, -72.917321], [36.195085, -86.776147], [32.759370000000004, -97.011], [30.353411, -90.915331], [25.669615, -80.383921], [39.159201, -120.145631], [37.820467, -122.341097], [37.698119, -121.940764], [34.343121999999994, -117.982231], [34.17088, -118.57432], [41.01122700000001, -111.91219], [37.6057, -122.385003], [33.669201, -112.082959], [25.767744, -80.33628399999998], [42.72738, -123.370297], [42.361792, -87.875822], [39.48321, -79.04290999999998], [44.97686, -93.40053], [27.460748, -82.575278], [32.756584000000004, -97.319372], [35.80717100000001, -90.708469], [39.293898, -76.552734], [30.401659, -86.88683499999998], [42.974033, -77.845254], [32.30832, -110.8924], [25.729733, -80.395634], [34.061336, -117.396424], [35.147845000000004, -80.828613], [42.41799, -83.42428000000002], [32.838251, -97.05199], [42.988737, -82.58439399999997], [33.60982, -112.25486], [36.771883, -119.85598], [44.536287, -95.940527], [35.096752, -120.5815], [45.399551, -122.930269], [32.826534, -97.479805], [30.25154, -81.47097], [44.173098, -91.838512], [34.531685, -82.702881], [25.735642, -80.26213], [33.659931, -84.497748], [44.108936, -94.699768], [29.17469, -81.08688000000002], [36.578212, -87.319249], [32.789770000000004, -117.113206], [33.638669, -89.717788], [42.052864, -123.713777], [33.87758400000001, -117.517507], [38.91017, -94.69538], [41.768807, -78.027035], [44.96921, -93.287802], [35.719001, -91.620606], [25.750817, -80.335844], [38.472851, -121.41828], [30.4082, -91.01923], [39.148718, -76.634563], [26.268534, -80.12626800000002], [39.08529, -84.52292], [45.76513900000001, -119.215736], [26.528035, -81.93169499999998], [39.447774, -87.47811], [34.364917, -118.503774], [33.87655, -117.66034], [33.938578, -118.090814], [25.8796, -80.32353], [30.2304, -97.779801], [42.98738, -123.32986], [38.33392, -75.56769], [33.861847999999995, -118.317056], [33.803693, -85.176651], [37.746389, -121.133056], [36.752856, -119.786866], [38.818983, -77.222227], [34.009471000000005, -117.972386], [33.882307, -117.366135], [35.271835, -80.836906], [40.37852, -74.32085500000002], [43.930538, -123.010738], [40.556792, -75.43475699999998], [41.637443, -74.07831], [33.97473, -118.240053], [38.290295, -121.441333], [35.05154, -85.242264], [33.943418, -117.871921], [28.853209000000003, -82.38619], [43.468476, -88.207388], [28.57358, -81.37586999999998], [40.520608, -76.095214], [36.104322, -95.993596], [26.331932, -80.117417], [42.60495, -73.60621], [36.517894, -119.547856], [32.760459999999995, -117.19218], [30.435468, -84.289709], [32.239477, -110.971822], [42.987232, -85.5907], [41.53394, -81.64694], [34.06745, -117.5355], [34.678175, -79.746705], [39.987273, -75.251887], [33.855940999999994, -118.00263], [45.083051, -93.402403], [40.276345, -75.303558], [29.676959000000004, -95.36088], [28.656591, -81.225263], [38.796554, -77.336851], [33.97867, -118.07803], [40.804381, -73.91829399999997], [25.813009, -80.13588], [34.06915, -118.04246299999998], [39.148932, -94.654029], [40.73752, -73.84496999999998], [36.80532, -119.7362], [33.392072, -117.174211], [39.39491, -76.54515], [45.222934, -122.243188], [34.365565999999994, -118.556824], [28.09151, -82.46011999999997], [40.0045, -78.38154], [39.089989, -77.520003], [30.426876, -97.676625], [37.65785, -92.660095], [25.856131, -80.18085500000002], [34.141496999999994, -81.057926], [37.686588, -121.057467], [37.364366, -121.901954], [47.702175, -95.00027], [29.948993, -90.065933], [42.698699, -73.84385999999998], [25.685061, -80.427529], [28.025476, -82.503824], [47.18348, -122.28348], [33.253053, -117.178], [41.87543, -87.67274], [28.614947, -81.38690600000002], [33.71408, -84.23563], [38.706511, -122.904136], [30.408955, -89.435331], [42.012115, -120.298029], [36.744965, -119.820724], [34.067640000000004, -117.60049], [33.883806, -117.880335], [28.449913, -81.48089499999998], [38.23540300000001, -122.677742], [38.830071, -91.016825], [39.098787, -94.605512], [32.791383, -96.738666], [38.89735, -77.02703000000002], [40.184218, -74.61702199999998], [26.222238, -80.185174], [37.429143, -77.34060600000002], [29.545719, -98.369055], [33.812474, -118.125302], [27.743061, -82.639569], [32.274795000000005, -89.945336], [47.343386, -122.292585], [45.20522, -93.39626], [34.027021999999995, -118.209623], [25.59859, -80.3543], [34.72365300000001, -82.02510600000002], [33.609284, -117.68599], [34.117489, -117.84632], [41.553632, -93.927609], [43.057035, -83.852468], [29.742971, -95.374687], [44.406787, -122.002943], [38.526359, -77.364467], [43.089269, -122.117621], [40.623618, -75.481771], [34.06043, -118.189233], [32.907711, -117.07646], [33.978674, -117.338304], [38.376113, -121.950184], [43.141803, -93.355744], [43.70419, -73.29598], [42.12963900000001, -122.631183], [41.07612, -73.920385], [37.560731, -122.035646], [45.06597, -93.28617], [38.879719, -77.247079], [39.738512, -75.56245], [38.83817, -76.86298000000002], [33.62682, -117.850475], [32.783572, -80.47108399999998], [42.34864, -83.09881999999998], [29.80844, -95.33012], [43.008073, -83.708066], [34.022026000000004, -118.17296100000002], [35.53682, -97.60115], [33.919695000000004, -84.332107], [32.978349, -96.76709], [42.654275, -123.377605], [39.876283, -75.260928], [32.238653, -82.326512], [25.478476, -80.485636], [39.77999000000001, -104.953], [32.85442800000001, -117.120648], [42.492587, -83.289603], [29.867729, -95.488089], [31.32221, -89.37340999999998], [40.68459, -73.64304], [34.093309999999995, -118.206352], [32.77176, -96.79948], [37.432898, -121.012355], [35.769926, -119.053308], [39.03113, -77.126437], [37.375324, -122.067956], [33.823363, -84.353471], [34.06533, -117.99715], [33.80682, -118.15017], [47.13936, -122.52091], [41.66148, -87.75291], [44.95185, -93.12152], [42.794816, -86.08630699999998], [34.051361, -118.213912], [34.508236, -82.765114], [39.679488, -122.204786], [34.123997, -81.236535], [33.735818, -117.819731], [28.332818, -81.491589], [38.55417, -121.689551], [34.503254, -118.62211299999998], [36.135083, -95.975634], [30.310748, -85.46944], [33.80608400000001, -117.880329], [46.215363, -107.252241], [45.082708, -93.053072], [40.79505, -73.48692], [30.500682, -84.247561], [39.8557, -104.91465], [30.31393, -81.66403000000003], [38.057803, -121.259612], [40.682233, -73.66289], [28.612344, -81.25832700000002], [38.648064, -77.443935], [37.73174, -122.40434], [30.080531, -90.414233], [39.82359, -104.98533], [41.312466, -75.755163], [42.962074, -87.938567], [38.627872, -121.26608600000002], [33.883336, -117.353088], [25.676696, -80.460889], [42.72592, -87.95513000000004], [42.306574, -121.415069], [42.89114, -85.77923], [40.007711, -75.74776], [33.958456, -117.309065], [25.899614, -80.182822], [38.64251, -121.394709], [45.658482, -118.729022], [40.70635, -112.06312], [25.70261, -80.291598], [46.960855, -92.902268], [34.07375, -80.99965999999998], [42.990478, -82.456802], [34.019025, -118.355576], [42.295184000000006, -87.983659], [38.527207, -121.468741], [33.656777000000005, -111.91913], [43.18256, -76.22864], [34.265964000000004, -118.453734], [41.97177, -87.95911], [39.44487, -77.500626], [40.843702, -73.895577], [30.428478, -91.171347], [38.8732, -121.13165], [39.917876, -104.855199], [48.096481, -122.184695], [35.544902, -84.570128], [39.721182, -105.022782], [34.219056, -117.400488], [33.77316, -84.37279000000002], [34.029518, -81.103037], [40.64983, -111.90236000000002], [41.85907, -88.08705], [25.924655, -80.315304], [35.73742, -78.793634], [30.229178000000005, -97.620306], [33.8102, -118.29026], [34.003725, -118.286382], [37.060946, -121.057309], [28.539092, -81.45521600000002], [33.37833, -111.89327], [28.40519500000001, -81.456036], [40.82483, -73.93104], [40.77884, -73.82647], [32.83915, -97.18808], [34.324602, -92.555958], [39.44197800000001, -76.35604599999998], [41.685167, -91.482006], [33.47448, -112.03847], [36.859872, -121.604012], [37.708935, -121.723677], [35.113979, -80.779258], [28.46612, -81.46500999999998], [37.847842, -122.298741], [40.471753, -77.46070300000002], [41.21595, -112.0017], [43.948625, -95.783562], [33.45728, -112.35807], [35.5511, -97.65469], [38.829939, -77.408035], [28.756139, -81.363524], [33.675678999999995, -117.840641], [35.13574000000001, -90.02431999999996], [31.503757, -86.925426], [34.081596000000005, -117.722253], [44.98385, -93.38043], [25.894693, -80.209726], [34.758703999999994, -82.240727], [40.14764, -75.15136], [43.089687, -83.76288000000002], [41.835036, -93.571238], [37.524974, -122.508586], [42.37351, -83.05986], [42.323728, -87.906849], [40.72775, -74.1294], [38.933342, -94.521612], [38.74424000000001, -77.149955], [28.00324, -82.31975], [39.164816, -121.132055], [33.873490000000004, -118.010148], [37.257313, -76.645585], [47.299709, -115.086131], [34.145423, -117.291822], [36.770831, -121.765428], [42.687603, -123.392118], [32.528942, -93.830818], [34.201108000000005, -118.473406], [38.482972, -78.809942], [28.962071, -81.08931899999997], [35.152174, -80.79696700000002], [32.689207, -96.6341], [38.554726, -121.404322], [25.730776, -80.367698], [27.33755, -82.49594599999998], [33.97091, -117.37499], [29.679140000000004, -95.452966], [39.381211, -77.26949499999998], [37.501447, -77.070086], [40.17693, -74.50818000000002], [34.408531, -92.81019], [40.704807, -73.817557], [37.504914, -77.613677], [33.77425, -118.07798], [38.660853, -121.350526], [28.258816, -81.441535], [34.977115999999995, -78.855492], [39.03014, -77.12297], [33.569378, -81.806845], [38.91839, -76.93209], [30.415503, -91.072981], [34.153690000000005, -118.32574], [38.013752, -121.875264], [40.055138, -83.069962], [35.615406, -78.8115], [38.922444, -104.71973], [37.68662, -122.132982], [30.387363, -87.28569499999998], [33.402594, -86.977593], [32.871941, -96.769798], [48.845502, -95.855913], [45.5582, -122.54742], [39.652265, -77.75102700000002], [32.729712, -96.857063], [25.938587, -80.168571], [39.385994, -76.732675], [34.505848, -119.816611], [34.088011, -118.236032], [39.754096, -86.171763], [28.54195, -82.609301], [33.940943, -117.2327], [44.298122, -93.30948], [42.68966, -83.24920999999998], [25.575223, -80.37298], [36.606404, -121.558572], [42.34038, -87.97839], [40.683686, -111.902356], [35.21978, -80.82568], [28.227225, -81.656553], [37.96487, -122.51405], [34.030533, -117.650685], [34.643741, -82.259332], [42.41027, -76.20576], [39.89143, -83.8061], [33.88146, -117.620208], [28.512663, -81.420663], [33.93077, -117.879921], [32.73007, -117.10786], [39.170431, -94.55819], [26.146076, -80.546447], [41.385101, -79.848836], [34.139427000000005, -118.015628], [39.441659, -77.494625], [33.466, -112.16913999999998], [36.847827, -77.909278], [33.718415, -117.720554], [33.800244, -118.083819], [40.76363, -73.902615], [40.507918, -111.89132], [37.771356, -121.325767], [38.81726, -90.95633], [34.925419, -110.263906], [42.878576, -85.375839], [30.370053, -97.689467], [41.606261, -90.565601], [37.554292, -77.48382], [34.207757, -119.220875], [40.113067, -75.119247], [42.768284, -73.761487], [39.429601, -77.998103], [38.576741, -77.326022], [44.976664, -93.343201], [32.677461, -97.083087], [29.942393, -90.111399], [30.282523, -97.765773], [40.743001, -73.775478], [36.838142, -121.770523], [33.916432, -118.269085], [39.657272, -77.84836899999998], [25.62762, -80.341566], [34.064575, -118.000208], [45.462842, -94.384291], [35.781819, -120.19916299999998], [40.726419, -73.539253], [41.10715, -76.76816], [37.99484, -122.2911], [32.666226, -97.241374], [34.663066, -80.678726], [33.193619, -117.253701], [40.217117, -75.246852], [41.06786, -81.5742], [25.686371, -80.386758], [30.211286, -97.779248], [25.760875, -80.419195], [37.05419600000001, -94.42665], [33.863291, -118.045107], [25.900063, -80.324455], [37.550722, -120.909701], [40.21449000000001, -104.97987], [29.96539000000001, -90.09863], [35.927957, -84.045662], [34.465363, -82.653076], [29.61815, -82.386545], [29.731567, -95.475227], [44.71078, -93.03254], [44.06273, -123.07359], [29.717793, -95.540219], [37.705379, -122.394155], [39.72558, -105.058952], [28.011758, -82.27859699999998], [39.019975, -76.982778], [28.430461, -81.404668], [34.08748, -117.64613], [34.076626, -117.745222], [41.029602, -78.432132], [40.202987, -75.261483], [35.828727, -78.58734799999998], [34.789488, -92.39017], [35.17941500000001, -85.336058], [45.363442, -110.7178], [36.06087, -95.86853], [28.427466, -81.404616], [33.977157, -118.238981], [33.974652, -118.283783], [32.844696, -96.583854], [38.29044, -85.64358], [40.72693, -74.13041], [26.52782100000001, -81.435293], [37.770949, -122.405755], [40.353706, -75.765745], [35.011252, -81.919657], [42.023497, -93.756413], [35.26719600000001, -119.146074], [41.45372, -90.46186], [42.48677, -78.359344], [43.195961, -77.68013499999998], [36.847018, -120.771449], [32.556749, -93.775895], [40.047068, -75.00040600000001], [42.873104, -83.72913299999998], [37.355962, -121.868291], [32.780648, -117.087235], [38.744382, -77.150037], [33.204640000000005, -117.38324], [32.709412, -117.147737], [34.036786, -81.110985], [40.691156, -111.796861], [44.966837, -93.21997], [26.253865, -80.16636899999997], [33.957731, -117.548698], [29.83158, -95.38293], [35.17128, -80.8082], [25.796823, -80.32386], [33.892132000000004, -118.044854], [28.571427000000003, -81.371985], [45.135086, -93.294278], [35.188265, -80.874324], [25.770033, -80.314103], [41.424368, -93.78023], [34.029003, -118.010126], [38.496008, -121.451268], [38.549522, -77.343896], [36.30745, -86.69475], [40.770113, -73.689348], [28.56791, -81.335451], [33.742536, -117.437822], [40.84505, -73.9167], [27.332419, -80.414408], [41.886931, -73.768805], [38.496008, -121.451268], [39.89832, -86.05154], [37.860958, -121.280476], [38.53848, -121.47367], [25.77606, -80.417314], [32.796588, -117.1754], [33.675984, -117.842094], [44.95318, -93.09441], [35.3649, -80.71731], [40.902217, -123.806701], [42.281538, -85.380624], [42.476551, -83.111297], [33.578915, -117.842883], [33.856068, -118.011935], [30.20272000000001, -85.822575], [33.855282, -117.970257], [36.033107, -79.800921], [34.56684, -118.68615], [33.619476, -117.679922], [34.038696, -118.173577], [40.75909, -73.83876], [39.015631, -119.067516], [32.270605, -110.961021], [38.566705, -121.50401399999998], [40.193213, -74.870227], [34.053921, -109.754052], [40.01272700000001, -78.59648299999998], [42.73778, -71.48136], [30.38019, -97.67441], [40.384441, -111.831369], [25.447765, -80.479997], [27.208588, -81.24243100000002], [30.428966, -91.060821], [32.509643, -90.108637], [40.778481, -74.048445], [39.274475, -78.092256], [28.357448, -81.491626], [40.764609, -111.918464], [34.155869, -118.22414], [38.638571, -90.490706], [40.607711, -74.14375600000002], [32.864263, -96.899497], [34.716570000000004, -82.56312], [33.610643, -112.151185], [44.95664, -123.05337], [45.23067, -123.164299], [38.63581, -77.28876], [42.35494, -83.4362], [41.710917, -88.380898], [28.42435900000001, -81.40478399999998], [34.029832, -118.214921], [32.930614, -96.803619], [40.846706, -122.335864], [25.590405, -80.369209], [28.961225, -82.040864], [39.861024, -104.98771], [28.566581, -81.286015], [33.985313, -118.05718799999998], [30.21535200000001, -81.760865], [38.374345, -77.4621], [40.42606, -75.17926], [36.969319, -120.663361], [30.34081500000001, -87.403138], [42.3662, -83.06313], [33.234032, -117.219985], [33.90274, -117.2263], [32.711291, -96.908858], [44.229336, -93.464566], [34.04365, -118.44373], [44.763882, -121.235975], [43.17384000000001, -77.65921], [34.028868, -117.55047], [41.301173, -124.049075], [34.157121999999994, -118.448693], [38.695587, -121.363673], [37.506862, -81.116019], [41.767649, -72.656077], [26.00746, -80.21389599999998], [27.849858, -82.66923299999998], [39.945037, -75.349529], [33.743797, -117.442756], [45.581606, -122.678681], [44.094284, -121.300918], [34.17302, -118.30643], [34.421453, -118.423536], [34.155904, -118.297766], [30.444559, -91.138582], [48.847904, -95.835447], [41.36494, -72.07455], [28.451938, -81.400468], [27.269259, -82.50007], [45.3744, -118.301816], [33.858413, -118.096323], [34.025552000000005, -118.30887], [38.705778, -121.326921], [30.235561, -92.405411], [32.795703, -96.662872], [34.16531, -118.48926000000002], [32.782539, -96.809827], [25.86733, -80.209856], [25.648476, -80.410516], [39.02104, -94.19424], [45.03484, -117.93125], [40.507918, -111.89132], [34.19893, -118.33786], [29.741679, -95.515824], [37.916189, -122.099911], [36.771589, -76.25745], [29.933439, -90.006488], [32.507094, -93.745369], [37.032669, -122.02241], [40.16235800000001, -75.282519], [30.124432, -81.796539], [39.979807, -76.759357], [34.03191, -118.41783], [33.377607, -112.710111], [34.865188, -111.626636], [41.63535, -93.777118], [40.787831, -73.938124], [37.698501, -121.941729], [37.51155, -119.827934], [33.75633, -78.96616], [28.531882, -81.414006], [39.985572, -75.093429], [33.90606, -118.046661], [35.754683, -78.65439], [35.209777, -80.72610999999998], [33.959846, -80.985941], [26.69683400000001, -81.900627], [25.809065, -80.264609], [40.75218, -73.96441999999998], [39.484649, -77.246675], [38.648152, -121.468333], [28.911241, -81.270664], [34.207402, -80.03148399999998], [38.875653, -77.634606], [32.059345, -83.974674], [41.10147, -73.98747], [29.729034, -95.440914], [43.796332, -120.539827], [34.066723, -117.226422], [37.094303, -80.49858], [30.320817, -81.68904599999998], [39.13397, -77.12259], [28.099344, -82.453445], [39.918209, -77.656688], [28.511414, -81.256586], [34.434691, -81.749186], [35.163467, -80.849439], [34.033466, -118.026326], [25.687932, -80.33465699999998], [37.42237, -122.226329], [35.008611, -82.013803], [36.27511, -86.709515], [41.5413, -81.60378], [34.990704, -85.29004599999998], [41.984792, -88.08027], [33.604754, -117.69048], [25.772537, -80.319471], [33.799859999999995, -118.11199], [40.59297, -73.90811], [30.409424, -91.051616], [36.11035, -86.77051], [38.91626, -94.76766], [34.250611, -118.428847], [44.063046, -122.81765], [25.685183, -80.418839], [37.58266, -122.04993], [31.719221, -106.269056], [32.272362, -95.306991], [37.1419, -122.18703], [42.927563, -76.920851], [39.619857, -77.780403], [40.581571, -111.87222], [34.328101000000004, -118.505412], [35.601341, -119.571479], [39.080943, -94.56378], [38.545736, -90.292779], [40.259925, -76.906453], [39.479462, -121.548174], [32.444720000000004, -93.729804], [39.80191, -86.16606], [36.391211, -78.149398], [33.674994, -79.005426], [40.436682, -122.290049], [33.990742, -117.933544], [40.628555, -122.282562], [39.52771, -119.78375], [34.136184, -117.516835], [30.366657, -83.238425], [27.880133, -82.794667], [27.94192, -82.48091], [28.550331, -81.4757], [39.76300000000001, -86.1434], [38.666997, -121.244261], [28.53109000000001, -81.38809], [34.065158000000004, -118.000227], [33.774556, -118.08963500000002], [33.977135, -118.386517], [32.163189, -110.909115], [32.84376, -117.2141], [44.420653, -121.789273], [44.764913, -93.238469], [39.154549, -94.498157], [36.138002, -80.239491], [38.865334, -77.244534], [36.300212, -119.744485], [27.93617, -82.35826999999998], [35.82395, -78.61782], [33.585346, -84.378422], [40.844972, -73.944512], [38.651619, -121.47712], [40.563229, -111.898981], [39.02305, -76.47270999999998], [29.721472, -82.261494], [36.56929, -82.44395], [33.844703, -86.826249], [39.35926, -78.04930999999998], [34.06654, -81.02249], [37.952355, -121.233576], [43.198257, -77.68024100000002], [35.87197000000001, -78.700991], [40.216223, -75.498396], [44.889397, -93.35841], [37.723895, -122.161251], [30.403043, -91.052161], [36.155843, -86.789212], [35.84751, -78.79438], [40.138285, -75.552787], [33.993525, -117.35751299999998], [36.782172, -76.393464], [34.999958, -81.996325], [40.7393, -74.06383000000002], [34.261121, -117.449936], [35.26054699999999, -80.795212], [40.4924, -111.89154], [46.611288, -92.553387], [37.20611, -121.71783], [39.11777, -120.949624], [29.844753000000004, -95.261125], [25.78084500000001, -80.199884], [25.95197000000001, -80.180014], [45.18232800000001, -93.316559], [32.206759000000005, -110.982593], [32.688843, -117.11577], [25.922163, -80.30920400000002], [40.485552, -74.41644000000002], [45.395941, -122.478343], [44.890496, -93.285913], [36.2361, -115.06208], [36.855531, -76.177458], [32.87089, -117.19578], [43.681866, -123.672502], [43.1961, -77.60015], [42.269195, -84.58199499999998], [33.59176, -117.513145], [45.266934, -93.719391], [30.450740000000003, -91.13901], [36.225589, -119.384597], [34.26034, -118.43873], [33.705228000000005, -117.855208], [38.703042, -77.208285], [34.171515, -118.387816], [35.225649, -80.82816899999997], [45.06935, -93.401], [34.06935, -117.79795], [39.13696, -77.15488], [29.949342, -90.084489], [40.155992, -75.37598299999998], [28.557322, -81.364456], [33.988309, -117.870252], [36.872852, -121.770343], [42.2059, -85.89446], [41.674564, -72.8496], [35.329991, -120.833218], [35.153192, -80.79592099999998], [42.94801, -123.30803], [46.847923, -100.915163], [37.517549, -122.512693], [40.079327, -76.338794], [39.958595, -76.740263], [35.88178, -119.270469], [39.10165, -76.70065], [37.9869, -122.316229], [38.261529, -122.300032], [28.523683, -81.330954], [37.316367, -121.926734], [33.701183, -117.084869], [36.14355, -86.7021], [30.441066, -97.86937], [43.05879, -76.09929], [42.401505, -120.293034], [33.87396, -118.23096], [37.73738, -79.25376999999997], [30.803812, -85.044028], [41.90408, -88.12057], [34.067253, -117.534946], [39.107855, -121.55912], [40.64054, -74.02253], [33.75835, -84.49387], [36.974403, -121.911048], [33.71383, -117.96438], [27.447751, -82.573305], [28.046412, -82.71244200000002], [35.845432, -78.680284], [36.139388, -86.880174], [42.019694, -87.763458], [30.63802, -91.066082], [43.616583, -116.220156], [34.053788, -118.205468], [38.554362, -77.34135699999999], [25.761071, -80.39058299999998], [35.33524, -80.82518], [37.37553, -120.688599], [40.766721, -111.939102], [39.245405, -76.456262], [33.915437, -84.347264], [42.309641, -122.847112], [38.801876, -77.515915], [32.29724, -110.97823], [28.514622, -81.394915], [33.862319, -118.199297], [37.966544, -122.328487], [40.085318, -111.683422], [45.51014, -122.68773], [40.254674, -75.24771], [41.11742, -73.50173000000002], [34.105843, -118.254357], [37.123793, -93.465711], [34.03717, -118.08882], [36.132328, -119.518445], [35.098199, -120.590658], [35.744994, -84.266005], [40.436414, -79.749337], [31.753135, -106.346828], [39.152407, -76.645259], [25.95197000000001, -80.180014], [34.67898, -83.025284], [34.760040999999994, -83.070269], [39.78498, -84.18486], [25.484522, -80.460986], [25.943633, -80.205311], [38.69861, -120.077322], [37.709702, -77.778729], [25.869988, -80.12135], [25.70712, -80.317763], [32.923969, -80.694705], [30.3737, -86.21985], [37.138367, -77.517139], [44.890464, -93.399761], [36.647754, -121.815404], [45.836762, -119.717178], [34.26603, -118.46], [36.14891400000001, -86.746577], [39.62726, -74.38996], [39.11926, -77.18243000000002], [37.509953, -122.251463], [38.839251, -77.311111], [37.50507, -77.61169], [42.302963, -122.850857], [37.61728400000001, -122.154525], [35.14238, -85.09841899999998], [39.123704, -120.95761], [34.144788, -117.273591], [37.506129, -76.386949], [34.088324, -118.475132], [40.14419, -75.13407], [27.32554600000001, -82.529761], [38.664153000000006, -76.874588], [34.027322, -118.23302], [39.171548, -75.91816], [25.91134, -80.236165], [42.18892, -87.82568], [35.81245, -86.78388000000002], [28.551816, -81.364437], [39.339861, -123.313594], [30.725305, -85.230412], [34.071333, -117.396176], [25.733464, -80.351741], [34.127249, -78.975647], [28.5672, -81.21179000000002], [36.931816, -120.84254], [35.882959, -78.679069], [35.216106, -80.85623100000002], [39.54194, -104.86899], [33.83515, -117.24759], [32.728464, -117.105365], [32.788992, -96.781484], [38.57519, -121.5342], [41.24332, -112.015808], [40.79543, -81.47614], [34.059517, -118.164322], [26.308211, -80.1184], [33.46768, -112.11057], [30.24398, -81.58858000000002], [35.157974, -81.87000400000002], [41.581031, -87.247377], [39.536698, -119.807954], [35.39145999999999, -97.54153], [40.262092, -74.51218399999998], [32.45579, -93.746048], [32.894427, -96.723958], [28.036369, -82.50499599999998], [34.014484, -118.161296], [42.44953, -94.844938], [29.920263, -90.117318], [37.173449, -118.289434], [34.120755, -117.873569], [44.985612, -93.089121], [28.551056, -81.44750400000002], [34.14868, -118.23115], [34.48755, -118.13968], [37.328335, -121.870297], [34.240232, -117.429567], [32.805465000000005, -117.113088], [36.676714, -121.641023], [29.82627, -95.47618], [46.169554, -122.914979], [43.570344, -116.211194], [32.338564, -111.06833600000002], [25.668128, -80.449596], [41.05925, -111.96247], [45.207318, -122.581246], [30.439645, -91.200141], [34.02362, -118.24268], [28.424848, -81.422974], [45.52722, -122.68676], [32.793473, -97.239331], [28.380919, -81.505104], [42.988933, -85.690658], [30.419591, -91.187432], [45.28147, -93.56113], [40.084616, -76.220687], [33.27599, -111.8892], [34.771389, -118.803611], [37.023035, -121.566778], [42.49453, -83.29499], [25.886368, -80.243266], [33.877155, -98.497803], [38.030525, -121.08226], [32.796689, -96.816147], [34.222657, -119.137534], [47.032259, -112.053], [35.010422, -85.700536], [47.598053, -122.321052], [33.930877, -118.178311], [33.926138, -117.421875], [40.049369, -76.316702], [32.915157, -97.348641], [38.619141, -121.748102], [30.480991, -84.315569], [45.61306, -122.67807], [40.68606, -76.88633], [34.107971, -117.184759], [30.167508, -97.692087], [26.332654, -81.806184], [40.830377, -73.885513], [36.854356, -119.949363], [35.75160800000001, -78.702147], [41.90432, -88.12056], [38.584814, -121.407684], [35.08462100000001, -85.063477], [26.16429500000001, -80.160943], [26.308202, -81.762225], [27.414, -82.468873], [28.998258, -81.64206], [34.199679, -118.396457], [38.733831, -121.810733], [33.394754, -110.776309], [35.119677, -81.082945], [29.482779, -98.599635], [32.980047, -80.14315699999999], [32.722561, -117.149488], [40.861719, -123.50423700000002], [39.445155, -77.39555899999998], [33.1008, -81.013897], [38.779083, -77.326916], [32.92429, -96.841525], [34.688011, -79.76631], [35.201454, -80.72327800000002], [42.79897, -71.0969], [36.288901, -121.846554], [38.388013, -107.423136], [33.927143, -117.288826], [28.87010900000001, -81.23299], [39.652479, -77.9158], [43.02334000000001, -123.68206], [28.602039, -81.404692], [33.89594, -118.05102], [35.851331, -78.580816], [39.74078, -105.51744], [34.522779, -81.90596], [41.58271, -93.70349], [41.052457, -76.25433699999998], [42.536, -71.49566], [30.481655, -91.14428], [35.2143, -80.68726], [43.142708, -77.61924499999998], [42.196272, -87.931234], [35.027627, -85.15942199999998], [43.626033, -75.376006], [34.023743, -117.74442], [36.812676, -121.673508], [38.475443, -77.40019000000002], [42.245296, -83.193272], [32.561186, -96.822344], [42.237979, -85.652536], [40.245741, -76.88242], [34.217490999999995, -118.237524], [27.942963, -82.544907], [47.20255, -122.25687], [36.697118, -81.99101], [32.081333, -83.76344499999998], [33.829849, -117.833786], [32.259955, -110.978001], [34.67881, -86.576463], [46.539, -94.306402], [33.92257, -79.74619799999998], [39.629542, -122.006883], [39.241019, -76.58501600000002], [36.03853, -86.601963], [47.290722, -122.313557], [33.963159999999995, -118.28106], [43.092177, -73.751336], [34.030590999999994, -117.633308], [43.944511, -88.688139], [39.021311, -76.94509599999998], [33.393892, -111.684632], [41.408261, -73.78678000000002], [33.920403, -84.305227], [30.499317, -91.165367], [37.888147, -122.516617], [44.86212, -93.25799], [38.797111, -120.397643], [45.517269, -122.802246], [35.672446, -77.86316500000002], [40.92971, -75.09631], [47.675946, -117.308149], [45.92192, -123.89521], [42.669814, -73.737434], [36.06604, -80.29921999999998], [34.141141, -117.248615], [35.243901, -80.661625], [38.654025, -121.292084], [39.66653, -86.05075], [34.128243, -117.303258], [47.53737, -122.362739], [36.75878, -76.344595], [25.684179, -80.35395], [45.515935, -122.699206], [32.361252, -86.184359], [37.528306, -121.945698], [44.127974, -121.282148], [29.843649, -82.631973], [40.73822, -73.84869], [35.83119, -78.56923], [38.510906, -121.335057], [45.306785, -93.556096], [32.866448, -96.897236], [34.172121999999995, -118.46777], [36.143935, -85.37223399999998], [33.578512, -86.471766], [25.782671, -80.316592], [42.238779, -87.861175], [28.291743, -81.41257], [34.832295, -82.298036], [40.019483, -75.14619499999998], [25.942684, -80.203142], [32.236209, -110.909762], [37.693479, -122.055248], [32.274692, -81.065923], [34.770829, -112.453002], [37.33227, -122.05989], [42.313348, -88.09865], [33.50945, -112.09975], [38.792578000000006, -77.15684], [32.734891, -96.824043], [32.798456, -96.681517], [35.1492, -80.833282], [44.163204, -93.948994], [33.939184000000004, -117.14808], [30.603994, -87.161462], [33.984153000000006, -118.302386], [33.827636, -118.287477], [36.663451, -119.724587], [39.962872, -75.607127], [33.871777, -79.76885300000002], [40.844065, -73.925967], [44.77079000000001, -92.86269], [38.865218, -77.05669], [43.616723, -116.354605], [38.0018, -122.28181], [27.890928, -81.03634699999998], [37.380676, -122.067849], [42.94494, -87.93491], [30.437042, -91.187196], [34.025481, -118.205723], [38.63478, -90.38997], [30.07626, -90.5968], [37.6524, -122.09887], [33.42224, -112.221163], [44.89073, -93.27289], [33.927894, -118.271759], [34.32288, -79.43159], [33.293444, -117.193474], [28.578007, -81.389548], [40.385138, -83.277487], [32.66737, -97.31849], [26.024547, -81.694662], [32.842233, -96.590481], [34.272303, -118.352929], [30.365179, -81.66974499999998], [33.451275, -112.108288], [36.706923, -119.757268], [30.205897, -97.835717], [47.62995, -122.32673], [33.065042, -117.28942], [35.401328, -119.042669], [33.981106, -81.033973], [33.85422, -117.79064], [27.286392, -82.518288], [38.883941, -82.996494], [34.261727, -118.439961], [33.601052, -78.993143], [37.53287, -77.36235], [33.22861, -87.53350999999998], [41.025093, -73.730653], [35.787818, -78.52595], [30.444087, -87.239864], [25.845564000000003, -80.254046], [28.534556, -81.47570999999998], [39.98876, -76.6632], [45.063267, -93.301552], [41.10203, -73.43456], [35.700856, -78.581117], [26.00746, -80.21389599999998], [35.031549, -85.30625400000002], [36.067701, -80.182149], [40.312682, -83.048914], [38.897556, -119.97052], [42.38217, -83.39572], [38.291619, -120.999309], [44.01388, -92.85913], [35.38982199999999, -120.603597], [41.66939, -72.78157], [34.072276, -117.930145], [25.69891, -80.38217900000002], [39.020894, -94.194749], [35.310383, -119.002976], [30.361939000000003, -97.697669], [30.278432, -81.602812], [30.913585, -83.364032], [29.94636, -90.08865], [42.970386, -73.802141], [43.619448, -116.301267], [30.3745, -91.089896], [44.06829000000001, -121.30718], [35.30619799999999, -80.76113199999998], [29.928542, -90.102158], [40.717921, -73.94775200000002], [44.283981, -118.97236200000002], [38.481737, -121.405281], [40.109665, -76.438874], [34.071581, -118.14108600000002], [44.57142, -122.91479], [25.708799, -80.284041], [32.763729, -117.160898], [46.18317, -123.86051], [40.036194, -76.30181], [39.04192000000001, -94.67531], [34.880648, -117.100797], [39.471412, -84.32572900000002], [40.691541, -111.54415], [41.68834, -93.833732], [35.71431, -119.235681], [41.50684, -72.11484], [38.340255, -121.33408], [37.56562, -122.27133], [34.211403999999995, -82.17789499999998], [35.08126, -81.70876], [35.097445, -81.095274], [37.904271, -122.312988], [35.779823, -78.613433], [30.496726, -84.26895400000002], [34.245259999999995, -117.43536], [25.939421, -80.292374], [30.283911, -97.704842], [40.71111, -73.95532], [32.672987, -96.762481], [42.161151, -88.050543], [44.27918, -83.60303], [42.351168, -83.095704], [36.300575, -86.695264], [37.778081, -122.401165], [37.339427, -121.852009], [33.467688, -112.110592], [37.608581, -121.053249], [28.66951, -81.491763], [25.907408, -80.292489], [43.035603, -76.313213], [36.898075, -121.776548], [46.527005, -122.599498], [33.861369, -118.040505], [38.988557, -77.157016], [40.912579, -81.427063], [46.03828, -123.247505], [25.715677, -80.362995], [38.02208, -121.96044], [37.9449, -120.42759], [41.549049, -111.95384], [47.628154, -122.628819], [25.471382, -80.534248], [38.878592, -77.088435], [37.716312, -122.173762], [28.576778000000004, -81.45138299999998]],\n",
              "                {&quot;blur&quot;: 15, &quot;maxZoom&quot;: 18, &quot;minOpacity&quot;: 0.5, &quot;radius&quot;: 25}\n",
              "            ).addTo(map_9a6bc84cad4e29b09dec494c4646c9a3);\n",
              "        \n",
              "&lt;/script&gt;\n",
              "&lt;/html&gt;\" style=\"position:absolute;width:100%;height:100%;left:0;top:0;border:none !important;\" allowfullscreen webkitallowfullscreen mozallowfullscreen></iframe></div></div>"
            ]
          },
          "metadata": {},
          "execution_count": 43
        }
      ]
    },
    {
      "cell_type": "markdown",
      "source": [
        "## 4. Ask and answer questions\n",
        "\n",
        "- Does New York show up in the data ?. If yes, why the accident count is low even though New York is most populated city?\n",
        "- What is the trend of accidents year over year (decreasing/increasing)?\n",
        "- Find percentage of cities which have more than 1000 yearly accidents \n",
        "- Find number of cities reported only one accident\n",
        "- What time of the day are accifdents more frequent in?\n",
        "- Distribution of accidents by hour on the sundays?"
      ],
      "metadata": {
        "id": "CjrODXXWRY94"
      }
    },
    {
      "cell_type": "markdown",
      "source": [
        "## 5. Summary and Conclusions\n",
        "\n",
        "Insights : \n",
        "- No data from New York\n",
        "- The number of accidents per city decreases exponentially\n",
        "- Less than 4% of cities have more than 1000 yearly accidents\n",
        "- Over 1100 cities have reported only one accident (need to investigate)\n",
        "- High percentage of accidents happen between 2pm to 6pm , next highest percentage is from 5am to 10am\n",
        "- On sundays more accidents appen between 12pm and 6pm"
      ],
      "metadata": {
        "id": "CnlZr9aBRbYW"
      }
    }
  ],
  "metadata": {
    "kernelspec": {
      "display_name": "Python 3",
      "language": "python",
      "name": "python3"
    },
    "language_info": {
      "codemirror_mode": {
        "name": "ipython",
        "version": 3
      },
      "file_extension": ".py",
      "mimetype": "text/x-python",
      "name": "python",
      "nbconvert_exporter": "python",
      "pygments_lexer": "ipython3",
      "version": "3.7.6"
    },
    "colab": {
      "provenance": [],
      "collapsed_sections": [
        "opXlbMENO68E",
        "S4Lm56zFPibx",
        "Jn0XNZ1IeOdW",
        "NotqCmWGd7q9",
        "ZaklZ3e60xn9"
      ],
      "include_colab_link": true
    }
  },
  "nbformat": 4,
  "nbformat_minor": 0
}